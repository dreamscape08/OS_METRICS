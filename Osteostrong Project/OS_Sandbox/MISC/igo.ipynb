{
 "cells": [
  {
   "cell_type": "code",
   "execution_count": null,
   "metadata": {},
   "outputs": [],
   "source": [
    "import psycopg2\n",
    "  \n",
    "# connection establishment\n",
    "conn = psycopg2.connect(\n",
    "   database=\"osteostrong\",\n",
    "    user='postgres',\n",
    "    password='admin',\n",
    "    host='localhost',\n",
    "    port= '5432'\n",
    ")\n",
    "  \n",
    "conn.autocommit = True\n",
    "  \n",
    "# Creating a cursor object\n",
    "cursor = conn.cursor()\n",
    "  \n",
    "# query to create a database \n",
    "sql = ''' CREATE database clients ''';\n",
    "  \n",
    "# executing above query\n",
    "cursor.execute(sql)\n",
    "print(\"Database has been created successfully !!\");\n",
    "  \n",
    "# Closing the connection\n",
    "conn.close()"
   ]
  },
  {
   "cell_type": "code",
   "execution_count": null,
   "metadata": {},
   "outputs": [],
   "source": [
    "/html/body/footer/script[2]/text()"
   ]
  },
  {
   "cell_type": "code",
   "execution_count": 209,
   "metadata": {},
   "outputs": [],
   "source": [
    "\n",
    "from bs4 import BeautifulSoup\n",
    "from lxml import etree\n",
    "import requests\n",
    "import pandas as pd\n",
    "import numpy as np\n",
    "import requests\n",
    "import json\n",
    "from decouple import config\n",
    "from urllib import request\n",
    "import csv \n",
    "import datetime\n",
    "import smtplib\n",
    "from pandas import json_normalize\n",
    "from sqlalchemy import create_engine\n",
    "import psycopg2\n",
    "from email.message import EmailMessage\n",
    "  \n",
    "  \n",
    "def dateme():\n",
    "    parser = datetime.datetime.now()\n",
    "    return parser.strftime(\"%m-%d-%Y\")\n",
    "\n",
    "DTC_username = config('DTC_username')\n",
    "DTC_password = config('DTC_password')\n",
    "\n",
    "DTC_payload = {'username': DTC_username, 'password': DTC_password}\n",
    "loginurl = ('https://osteostrong.org/auth')\n",
    "DTC_totals = []\n",
    "with requests.session() as s:\n",
    "    s.post(loginurl, data=DTC_payload)\n",
    "    DTC_url = 'https://osteostrong.org/chart?UserId=3ffc909ff8f5609c3c6e6dc44c6ff161&LocationId=00053'\n",
    "    DTC_r = s.get(DTC_url)\n",
    "    soup = BeautifulSoup(DTC_r.content, 'html.parser')  \n"
   ]
  },
  {
   "cell_type": "code",
   "execution_count": null,
   "metadata": {},
   "outputs": [],
   "source": [
    "\n",
    "        makeChart(\"UPPER GT\",$('#chartUpper'), [359,359,359,359], [\"1/15/2019\",\"1/15/2019\",\"1/15/2019\",\"1/15/2019\"],320,0,false, \"lbs\");\n",
    "        makeChart(\"LOWER GT\",$('#chartLower'), [657,657,657,657], [\"1/15/2019\",\"1/15/2019\",\"1/15/2019\",\"1/15/2019\"],921.6,537.6,false, \"lbs\");\n",
    "        makeChart(\"CORE GT\",$('#chartCore'), [187,187,187,187], [\"1/15/2019\",\"1/15/2019\",\"1/15/2019\",\"1/15/2019\"],192,0,false, \"lbs\");\n",
    "        makeChart(\"POSTURAL GT\",$('#chartPostural'), [420,420,420,420], [\"1/15/2019\",\"1/15/2019\",\"1/15/2019\",\"1/15/2019\"],320,0,false, \"lbs\");\n",
    "        window.renderable = true;\n",
    "    "
   ]
  },
  {
   "cell_type": "code",
   "execution_count": 254,
   "metadata": {},
   "outputs": [
    {
     "data": {
      "text/plain": [
       "['\\n        makeChart(\"UPPER GT\",$(\\'#chartUpper\\'), [1056,1141,1137,1141], [\"7/19/2018\",\"9/27/2018\",\"8/30/2018\",\"9/27/2018\"],450,0,false, \"lbs\");\\n        makeChart(\"LOWER GT\",$(\\'#chartLower\\'), [2169,2732,2732,2212], [\"7/19/2018\",\"8/30/2018\",\"8/30/2018\",\"9/27/2018\"],1296,756,false, \"lbs\");\\n        makeChart(\"CORE GT\",$(\\'#chartCore\\'), [681,686,641,647], [\"7/19/2018\",\"7/26/2018\",\"8/30/2018\",\"9/27/2018\"],270,0,false, \"lbs\");\\n        makeChart(\"POSTURAL GT\",$(\\'#chartPostural\\'), [768,821,717,821], [\"7/19/2018\",\"9/27/2018\",\"8/30/2018\",\"9/27/2018\"],450,0,false, \"lbs\");\\n        window.renderable = true;\\n    ']"
      ]
     },
     "execution_count": 254,
     "metadata": {},
     "output_type": "execute_result"
    }
   ],
   "source": [
    "# /html/body/footer/script[2]/text()\n",
    "# textContent\n",
    "foot=soup.footer\n",
    "script=foot.script.next.next\n",
    "textw=script.contents\n",
    "textw"
   ]
  },
  {
   "cell_type": "code",
   "execution_count": 257,
   "metadata": {},
   "outputs": [
    {
     "name": "stdout",
     "output_type": "stream",
     "text": [
      "Line1: \n",
      "Line2: makeChart(\"UPPER GT\",$('#chartUpper'), [1056,1141,1137,1141], [\"7/19/2018\",\"9/27/2018\",\"8/30/2018\",\"9/27/2018\"],450,0,false, \"lbs\");\n",
      "Line3: makeChart(\"LOWER GT\",$('#chartLower'), [2169,2732,2732,2212], [\"7/19/2018\",\"8/30/2018\",\"8/30/2018\",\"9/27/2018\"],1296,756,false, \"lbs\");\n",
      "Line4: makeChart(\"CORE GT\",$('#chartCore'), [681,686,641,647], [\"7/19/2018\",\"7/26/2018\",\"8/30/2018\",\"9/27/2018\"],270,0,false, \"lbs\");\n",
      "Line5: makeChart(\"POSTURAL GT\",$('#chartPostural'), [768,821,717,821], [\"7/19/2018\",\"9/27/2018\",\"8/30/2018\",\"9/27/2018\"],450,0,false, \"lbs\");\n",
      "Line6: window.renderable = true;\n",
      "Line7: \n"
     ]
    }
   ],
   "source": [
    "file1 = open('myfile.txt', 'w')\n",
    "file1.writelines(textw)\n",
    "file1.close()\n",
    "\n",
    "# Using readlines()\n",
    "file1 = open('myfile.txt', 'r')\n",
    "Lines = file1.readlines()\n",
    "stringly=[]\n",
    "count = 0\n",
    "# Strips the newline character\n",
    "for line in Lines:\n",
    "    count += 1\n",
    "    print(\"Line{}: {}\".format(count, line.strip()))\n",
    "    stringly.append(line.strip())\n",
    "\n",
    "\n"
   ]
  },
  {
   "cell_type": "code",
   "execution_count": 260,
   "metadata": {},
   "outputs": [
    {
     "data": {
      "text/plain": [
       "'makeChart(\"UPPER GT\",$(\\'#chartUpper\\'), [1056,1141,1137,1141], [\"7/19/2018\",\"9/27/2018\",\"8/30/2018\",\"9/27/2018\"],450,0,false, \"lbs\");'"
      ]
     },
     "execution_count": 260,
     "metadata": {},
     "output_type": "execute_result"
    }
   ],
   "source": [
    "str"
   ]
  },
  {
   "cell_type": "code",
   "execution_count": null,
   "metadata": {},
   "outputs": [],
   "source": [
    "/html/body/table/tbody/tr[126]/td[2]\n",
    "/html/body/table/tbody/tr[126]/td[2]/text()"
   ]
  },
  {
   "cell_type": "code",
   "execution_count": 271,
   "metadata": {},
   "outputs": [
    {
     "name": "stdout",
     "output_type": "stream",
     "text": [
      "The original string is : makeChart(\"UPPER GT\",$('#chartUpper'), [1056,1141,1137,1141], [\"7/19/2018\",\"9/27/2018\",\"8/30/2018\",\"9/27/2018\"],450,0,false, \"lbs\");\n"
     ]
    },
    {
     "ename": "AttributeError",
     "evalue": "'NoneType' object has no attribute 'group'",
     "output_type": "error",
     "traceback": [
      "\u001b[0;31m---------------------------------------------------------------------------\u001b[0m",
      "\u001b[0;31mAttributeError\u001b[0m                            Traceback (most recent call last)",
      "\u001b[0;32m<ipython-input-271-9c30df337e80>\u001b[0m in \u001b[0;36m<module>\u001b[0;34m\u001b[0m\n\u001b[1;32m     16\u001b[0m \u001b[0;31m# # computed date\u001b[0m\u001b[0;34m\u001b[0m\u001b[0;34m\u001b[0m\u001b[0;34m\u001b[0m\u001b[0m\n\u001b[1;32m     17\u001b[0m \u001b[0;31m# # feeding format\u001b[0m\u001b[0;34m\u001b[0m\u001b[0;34m\u001b[0m\u001b[0;34m\u001b[0m\u001b[0m\n\u001b[0;32m---> 18\u001b[0;31m \u001b[0mres\u001b[0m \u001b[0;34m=\u001b[0m \u001b[0mdatetime\u001b[0m\u001b[0;34m.\u001b[0m\u001b[0mstrptime\u001b[0m\u001b[0;34m(\u001b[0m\u001b[0mmatch_str\u001b[0m\u001b[0;34m.\u001b[0m\u001b[0mgroup\u001b[0m\u001b[0;34m(\u001b[0m\u001b[0;34m)\u001b[0m\u001b[0;34m,\u001b[0m\u001b[0;34m'%m-%d-%Y'\u001b[0m\u001b[0;34m)\u001b[0m\u001b[0;34m.\u001b[0m\u001b[0mdate\u001b[0m\u001b[0;34m(\u001b[0m\u001b[0;34m)\u001b[0m\u001b[0;34m\u001b[0m\u001b[0;34m\u001b[0m\u001b[0m\n\u001b[0m\u001b[1;32m     19\u001b[0m \u001b[0;34m\u001b[0m\u001b[0m\n\u001b[1;32m     20\u001b[0m \u001b[0;34m\u001b[0m\u001b[0m\n",
      "\u001b[0;31mAttributeError\u001b[0m: 'NoneType' object has no attribute 'group'"
     ]
    }
   ],
   "source": [
    "\n",
    "# Python3 code to demonstrate working of\n",
    "# Detect date in String\n",
    "# Using re.search() + strptime()\n",
    "import re\n",
    "from datetime import datetime\n",
    "  \n",
    "# initializing string\n",
    "test_str = stringly[1]\n",
    "  \n",
    "# printing original string\n",
    "print(\"The original string is : \" + str(test_str))\n",
    "  \n",
    "# # searching string\n",
    "match_str = re.search(f'\\d{2}-\\d{2}-\\d{4}', str(test_str))\n",
    "  \n",
    "# # computed date\n",
    "# # feeding format\n",
    "res = datetime.strptime(match_str.group(),'%m-%d-%Y').date()\n",
    "  \n",
    "\n",
    "  \n",
    "# printing result\n",
    "print(\"Computed date : \" + str(res))"
   ]
  },
  {
   "cell_type": "code",
   "execution_count": null,
   "metadata": {},
   "outputs": [],
   "source": [
    "from bs4 import BeautifulSoup\n",
    "import pandas as pd\n",
    "import numpy as np\n",
    "import requests\n",
    "import json\n",
    "from decouple import config\n",
    "from urllib import request\n",
    "import csv \n",
    "import datetime\n",
    "import smtplib\n",
    "from pandas import json_normalize\n",
    "from sqlalchemy import create_engine\n",
    "import psycopg2\n",
    "from email.message import EmailMessage\n",
    "\n",
    "\n",
    "# f = open('/Users/dreamscape08/Desktop/Osteostrong Project/OSPGRM_files/DTC/DTC-users.json')\n",
    "# DTC_data = json.load(f)\n",
    "def dateme():\n",
    "    parser = datetime.datetime.now()\n",
    "    return parser.strftime(\"%m-%d-%Y\")\n",
    "\n",
    "DTC_username = config('DTC_username')\n",
    "DTC_password = config('DTC_password')\n",
    "\n",
    "DTC_payload = {'username': DTC_username, 'password': DTC_password}\n",
    "loginurl = ('https://osteostrong.org/auth')\n",
    "DTC_totals = []\n",
    "with requests.session() as s:\n",
    "    s.post(loginurl, data=DTC_payload)\n",
    "    DTC_url = 'https://osteostrong.org/chart?UserId=ffca66d304bee6964cf3f349c8609400&LocationId=00053'\n",
    "    DTC_r = s.get(DTC_url)\n",
    "    soup = BeautifulSoup(DTC_r.content, 'html.parser')\n",
    "    # jsondata=json.loads(r)    \n",
    "    # df=pd.json_normalize(jsondata)\n",
    "    # allusersdtc=df[['FirstName.S', 'LastName.S', 'Email.S', 'Phone.S','UserId.S','NfcId.S']]#.to_csv('/Users/dreamscape08/Desktop/Osteostrong Project/OSPGRM_files/DTC/DTC-users.csv')\n",
    "    # for x in allusersdtc.index:\n",
    "    #     usrid=allusersdtc.loc[x,'UserId.S']\n",
    "    #     DTC_url = f\"https://osteostrong.org/chart?UserId={usrid}&LocationId=00093\"\n",
    "    #     DTC_r = s.get(DTC_url)\n",
    "    #     DTC_soup = BeautifulSoup(DTC_r.content, 'html.parser')\n",
    "    #     DTC_total_sesh = DTC_soup.find_all('div', attrs={'class': 'col-1'})\n",
    "    #     DTC_Total_Sessions = (DTC_total_sesh[2].text.strip())\n",
    "    #     DTC_sesh_totals = int(DTC_Total_Sessions)\n",
    "    #     DTC_totals.append([DTC_sesh_totals, usrid])\n",
    "# s.close()"
   ]
  },
  {
   "cell_type": "code",
   "execution_count": null,
   "metadata": {},
   "outputs": [],
   "source": [
    "\n"
   ]
  },
  {
   "cell_type": "code",
   "execution_count": null,
   "metadata": {},
   "outputs": [],
   "source": [
    "# ********************     DO NOT CHANGE DO NO MODIFY  ******************\n",
    "# ********************     TOTAL SESSION NUMBER SCRIPT   ******************\n",
    "# ********************     DO NOT CHANGE DO NO MODIFY   ******************\n",
    "# ********************     TOTAL SESSION NUMBER SCRIPT   ******************\n",
    "# ********************     DO NOT CHANGE DO NO MODIFY   ******************\n",
    "\n",
    "\n",
    "\n",
    "div_dict =soup.find_all('div', attrs={'class': 'col-1'})\n",
    "DTC_Total_Sessions = int(div_dict[2].text.strip())\n",
    "print(DTC_Total_Sessions )"
   ]
  },
  {
   "cell_type": "code",
   "execution_count": null,
   "metadata": {},
   "outputs": [],
   "source": [
    "# ********************     FULL NAME AS STRING SCRIPT   ******************\n",
    "# ********************     DO NOT CHANGE DO NO MODIFY  ******************\n",
    "# ********************     FULL NAME AS STRING SCRIPT   ******************\n",
    "# ********************     DO NOT CHANGE DO NO MODIFY   ******************\n",
    "# ********************     FULL NAME AS STRING SCRIPT   ******************\n",
    "# ********************     DO NOT CHANGE DO NO MODIFY   ******************\n",
    "\n",
    "\n",
    "\n",
    "\n",
    "\n",
    "name_dict=soup.find_all('div', attrs={'class': 'col-2 offset-6'})\n",
    "name=str(name_dict[0].contents[3].text.strip())\n",
    "print(name)"
   ]
  },
  {
   "cell_type": "code",
   "execution_count": null,
   "metadata": {},
   "outputs": [],
   "source": [
    "total_dict=soup.find_all('script')\n",
    "total=pd.DataFrame(total_dict[-1])\n",
    "total"
   ]
  },
  {
   "cell_type": "code",
   "execution_count": null,
   "metadata": {},
   "outputs": [],
   "source": [
    "soup.get_text()"
   ]
  },
  {
   "cell_type": "code",
   "execution_count": null,
   "metadata": {},
   "outputs": [],
   "source": [
    "soup = BeautifulSoup(html)\n",
    "\n",
    "for strong_tag in soup.find_all('strong'):\n",
    "    print(strong_tag.text, strong_tag.next_sibling)"
   ]
  },
  {
   "cell_type": "code",
   "execution_count": null,
   "metadata": {},
   "outputs": [],
   "source": [
    "with requests.session() as s:\n",
    "    s.post(loginurl, data=DTC_payload)\n",
    "    for x in range(99:999):\n",
    "            location = f'00{x}'\n",
    "            DTC_url = f\"https://osteostrong.org/user/users?LocationId={location}\"\n",
    "            DTC_r = s.get(DTC_url).text"
   ]
  },
  {
   "cell_type": "code",
   "execution_count": 52,
   "metadata": {},
   "outputs": [],
   "source": [
    "d={}\n",
    "with requests.session() as s:\n",
    "    s.post(loginurl, data=DTC_payload)\n",
    "    for x in good:\n",
    "        loc=x\n",
    "        DTC_url = f\"https://osteostrong.org/user/users?LocationId={loc}\"\n",
    "        DTC_r = s.get(DTC_url).text\n",
    "        jsondata=json.loads(DTC_r)    \n",
    "        df=pd.json_normalize(jsondata)\n",
    "        allusers=df[['FirstName.S', 'LastName.S', 'Email.S', 'Phone.S','UserId.S','NfcId.S']]\n",
    "        allusers.to_excel(f'/Users/dreamscape08/Desktop/Osteostrong Project/OS_Operations/{loc}_CLIENTLIST.xlsx', header=True,index=False)\n",
    "        \n",
    "        "
   ]
  },
  {
   "cell_type": "code",
   "execution_count": null,
   "metadata": {},
   "outputs": [],
   "source": [
    "d['00012']['UserId.S']"
   ]
  },
  {
   "cell_type": "code",
   "execution_count": 51,
   "metadata": {},
   "outputs": [],
   "source": [
    "usrid = x\n",
    "DTC_url = f\"https://osteostrong.org/chart?UserId={usrid}&LocationId=00093\"\n",
    "DTC_r = s.get(DTC_url)\n",
    "DTC_soup = BeautifulSoup(DTC_r.text, 'html.parser')\n",
    "DTC_total_sesh = DTC_soup.find_all('div', attrs={'class': 'col-1'})\n",
    "DTC_Total_Sessions = (DTC_total_sesh)\n"
   ]
  },
  {
   "cell_type": "code",
   "execution_count": null,
   "metadata": {},
   "outputs": [],
   "source": [
    "list=[]\n",
    "for xy in d:\n",
    "    for y in d[xy]:\n",
    "        x = d[xy]['UserId.S']\n",
    "        usrid=x\n",
    "        DTC_url = f\"https://osteostrong.org/chart?UserId={usrid}&LocationId=00093\"\n",
    "        DTC_r = s.get(DTC_url)\n",
    "        DTC_soup = BeautifulSoup(DTC_r.text, 'html.parser')\n",
    "        DTC_total_sesh = DTC_soup.find_all('div', attrs={'class': 'col-1'})\n",
    "        DTC_Total_Sessions = int(DTC_total_sesh[2].text.strip())\n",
    "        try:\n",
    "            DTC_Total_Sessions = int(DTC_total_sesh[2].text.strip())\n",
    "        except:\n",
    "            DTC_Total_Sessions = 0\n",
    "        finally:            \n",
    "            list.append([usrid,DTC_Total_Sessions,xy])"
   ]
  },
  {
   "cell_type": "code",
   "execution_count": null,
   "metadata": {},
   "outputs": [],
   "source": [
    "for x in d:\n",
    "    for y in d[x]:\n",
    "        print(d[x])\n",
    "for x in d:\n",
    "    for id in d[x]['UserId.S']:\n",
    "        usrid=id\n",
    "        DTC_url = f\"https://osteostrong.org/chart?UserId={usrid}&LocationId=00093\"\n",
    "        DTC_r = s.get(DTC_url)\n",
    "        DTC_soup = BeautifulSoup(DTC_r.text, 'html.parser')\n",
    "        DTC_total_sesh = DTC_soup.find_all('div', attrs={'class': 'col-1'})\n",
    "        try:\n",
    "            DTC_Total_Sessions = int(DTC_total_sesh[2].text.strip())\n",
    "        except:\n",
    "            DTC_Total_Sessions = 0\n",
    "        finally:            \n",
    "            d.loc[x]['Total Sessions']=DTC_Total_Sessions\n",
    "    \n",
    "\n",
    "\n",
    "    "
   ]
  },
  {
   "cell_type": "code",
   "execution_count": null,
   "metadata": {},
   "outputs": [],
   "source": [
    "for x in d:\n",
    "    for y in d[x]:\n",
    "        print(d[x])"
   ]
  },
  {
   "cell_type": "code",
   "execution_count": null,
   "metadata": {},
   "outputs": [],
   "source": [
    "print(list)"
   ]
  },
  {
   "cell_type": "code",
   "execution_count": null,
   "metadata": {},
   "outputs": [],
   "source": []
  }
 ],
 "metadata": {
  "interpreter": {
   "hash": "3067ead486e059ec00ffe7555bdb889e6e264a24dc711bf108106cc7baee8d5d"
  },
  "kernelspec": {
   "display_name": "Python 3.8.8 64-bit ('base': conda)",
   "language": "python",
   "name": "python3"
  },
  "language_info": {
   "codemirror_mode": {
    "name": "ipython",
    "version": 3
   },
   "file_extension": ".py",
   "mimetype": "text/x-python",
   "name": "python",
   "nbconvert_exporter": "python",
   "pygments_lexer": "ipython3",
   "version": "3.8.8"
  },
  "orig_nbformat": 4
 },
 "nbformat": 4,
 "nbformat_minor": 2
}
