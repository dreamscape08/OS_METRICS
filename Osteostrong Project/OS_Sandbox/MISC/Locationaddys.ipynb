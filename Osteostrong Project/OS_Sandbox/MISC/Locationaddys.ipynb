{
 "cells": [
  {
   "cell_type": "code",
   "execution_count": null,
   "metadata": {},
   "outputs": [],
   "source": [
    "from bs4 import BeautifulSoup\n",
    "import pandas as pd\n",
    "import numpy as np\n",
    "import requests\n",
    "import json\n",
    "from decouple import config\n",
    "from urllib import request\n",
    "import csv \n",
    "import datetime\n",
    "import smtplib\n",
    "from pandas import json_normalize\n",
    "from sqlalchemy import create_engine\n",
    "import psycopg2\n",
    "from email.message import EmailMessage\n",
    "from datetime import datetime, timedelta\n",
    "import json \n",
    "import pandas as pd\n"
   ]
  },
  {
   "cell_type": "markdown",
   "metadata": {},
   "source": [
    "Try:\n",
    "#Whatever you wish to execute\n",
    "Except:\n",
    "#If this throws an error, do the following. Usually the user implements either one of these three steps: \n",
    "(a) throw an exception (which breaks the code) or \n",
    "(b) perform an alternative action (e.g. record that the try-statement produced an error, but continue with the code anyway)\n",
    "(c) pass (simply execute the rest of the script)\n",
    "Else:\n",
    "#If this doesn't throw an error, do the following\n",
    "Finally:\n",
    "#The finally-statement is optional. Whether the try-statement produced an error or not, do the following."
   ]
  },
  {
   "cell_type": "code",
   "execution_count": null,
   "metadata": {},
   "outputs": [],
   "source": [
    "url1 = \"https://osteostrong.pro/\"\n",
    "url2 = \"https://osteostrong.pro/login\"\n",
    "username = config('DTC_username')\n",
    "password = config('DTC_password')\n",
    "\n",
    "payload = {'username': username, 'password': password}\n",
    "headers = {\n",
    "    'Content-Type': 'application/x-www-form-urlencoded',\n",
    "    }\n",
    "#   'Cookie': f'osteo_auth=s%3AGU_lmG03zZ_MSaxrQGF5EyheUMWX_7l3.lQX%2FW1Z5lt%2FyqbkNnlpee0FIohd%2FhpL0DeBPkpsh9V0'\n",
    "# }\n",
    "\n",
    "# response = requests.post( url, headers=headers, data=payload)\n",
    "\n",
    "session = requests.Session()\n",
    "authcookie = session.post(url2,data=payload,headers=headers)\n",
    "cookie=(authcookie.cookies.get_dict())"
   ]
  },
  {
   "cell_type": "code",
   "execution_count": null,
   "metadata": {},
   "outputs": [],
   "source": [
    "cookie"
   ]
  },
  {
   "cell_type": "code",
   "execution_count": null,
   "metadata": {},
   "outputs": [],
   "source": [
    "\n",
    "\n",
    "url = \"https://www.marketwatch.com/story/this-investment-strategy-is-an-extremely-effective-way-to-beat-the-s-p-500-11645065209\"\n",
    "\n",
    "payload={}\n",
    "headers = {}\n",
    "\n",
    "response = session.get(url)\n",
    "\n",
    "soup=BeautifulSoup(response.text, 'html.parser')\n"
   ]
  },
  {
   "cell_type": "code",
   "execution_count": null,
   "metadata": {},
   "outputs": [],
   "source": [
    "text=soup.find_all('p')\n",
    "article=[]\n",
    "for x in text:\n",
    "    article.append(x.text)\n",
    "    print(x.text)\n",
    "# print(article)"
   ]
  },
  {
   "cell_type": "code",
   "execution_count": null,
   "metadata": {},
   "outputs": [],
   "source": [
    "LW_username = config('lw_username')\n",
    "LW_password = config('lw_password')\n",
    "\n",
    "LW_payload = {'username': LW_username, 'password': LW_password}\n",
    "loginurl = ('https://osteostrong.org/auth')\n",
    "LW_totals = []\n",
    "\n",
    "with requests.session() as s:\n",
    "    s.post(loginurl, data=LW_payload)\n",
    "    for lid in tens:\n",
    "    url=f'https://osteostrong.org/location/get?lid={lid}'\n",
    "    LW_r = s.get(LW_url).text\n",
    "    jsondata=json.loads(LW_r)    \n",
    "s.close()\n",
    "metrics=[]\n",
    "# x=int(input())\n",
    "current_date = datetime.now()\n",
    "cd=current_date.strftime(\"%m-%d-%Y\") \n",
    "activelimit=(current_date - timedelta(days=35)).strftime(\"%m-%d-%Y\")\n",
    "al=datetime.strptime(activelimit, \"%m-%d-%Y\")\n",
    "for i in range(len(jsondata)):    \n",
    "    userid=jsondata[i]['UserId']['S']\n",
    "    firstname=jsondata[i]['FirstName']['S']\n",
    "    lastname=jsondata[i]['LastName']['S']\n",
    "    email=jsondata[i]['Email']['S']\n",
    "    active=None\n",
    "    try:\n",
    "       last_sesh=jsondata[i]['Sessions']['M']['Core']['L'][-1]['M']['Date']['S']       \n",
    "       last_sesh=pd.to_datetime(last_sesh)\n",
    "       sesh_count=len(jsondata[i]['Sessions']['M']['Core']['L'])\n",
    "       if last_sesh > al:\n",
    "           active=True        \n",
    "    except:\n",
    "        last_sesh=None        \n",
    "        sesh_count=0\n",
    "    finally:\n",
    "        metrics.append([userid,firstname,lastname,email,last_sesh,sesh_count,active])\n",
    "columns=['UserId','FirstName','LastName','Email','LastSession','SessionCount','Active']\n",
    "metrics_df=pd.DataFrame(metrics,columns=columns)\n",
    "metrics_df=metrics_df.dropna().reset_index(drop=True)"
   ]
  },
  {
   "cell_type": "code",
   "execution_count": null,
   "metadata": {},
   "outputs": [],
   "source": [
    "locations=[]\n",
    "bad=[]"
   ]
  },
  {
   "cell_type": "code",
   "execution_count": null,
   "metadata": {},
   "outputs": [],
   "source": [
    "\n",
    "# LW_username = config('lw_username')\n",
    "# LW_password = config('lw_password')\n",
    "\n",
    "# LW_payload = {'username': LW_username, 'password': LW_password}\n",
    "# loginurl = ('https://osteostrong.org/auth')\n",
    "# with requests.session() as s:\n",
    "#     s.post(loginurl, data=LW_payload)\n",
    "#     for x in range(10,13,1):\n",
    "#         url = f'https://osteostrong.org/location/get?lid=000{x}'\n",
    "#         LW_r = s.get(url).text\n",
    "#         try:\n",
    "#             jsondata = json.loads(LW_r)\n",
    "#             locations.append(jsondata)\n",
    "#         except:\n",
    "#             bad.append(x)\n",
    "#         finally:\n",
    "#             try:\n",
    "#                 print(jsondata)\n",
    "#             except:\n",
    "#                 print(x)\n",
    "#                 print('bad')\n",
    "#                 pass\n",
    "\n",
    "            \n",
    "# locations\n",
    "\n",
    "\n",
    "for x in range(10,13,1):\n",
    "    url = f'https://osteostrong.org/location/get?lid=000{x}'\n",
    "    locations.append(url)"
   ]
  },
  {
   "cell_type": "code",
   "execution_count": null,
   "metadata": {},
   "outputs": [],
   "source": [
    "locations"
   ]
  },
  {
   "cell_type": "code",
   "execution_count": null,
   "metadata": {},
   "outputs": [],
   "source": [
    "import time"
   ]
  },
  {
   "cell_type": "code",
   "execution_count": null,
   "metadata": {},
   "outputs": [],
   "source": [
    "locations=[]\n",
    "bad=[]\n",
    "LW_username = config('lw_username')\n",
    "LW_password = config('lw_password')\n",
    "\n",
    "LW_payload = {'username': LW_username, 'password': LW_password}\n",
    "loginurl = ('https://osteostrong.org/auth')\n",
    "with requests.session() as s:\n",
    "    s.post(loginurl, data=LW_payload)\n",
    "    for x in range(10,54,1):\n",
    "        url = f'https://osteostrong.org/location/get?lid=000{x}'\n",
    "        locations.append(url)\n",
    "        \n",
    "        # try:\n",
    "            LW_r = s.get(url).text\n",
    "            jsondata = json.loads(LW_r)\n",
    "            locations.append(x)\n",
    "        # except:\n",
    "        #     bad.append(x)\n",
    "        # finally:\n",
    "        #     time.sleep(0.5)\n"
   ]
  },
  {
   "cell_type": "code",
   "execution_count": null,
   "metadata": {},
   "outputs": [],
   "source": [
    "good=[]"
   ]
  },
  {
   "cell_type": "code",
   "execution_count": null,
   "metadata": {},
   "outputs": [],
   "source": [
    "\n",
    "\n",
    "\n",
    "LW_username = config('lw_username')\n",
    "LW_password = config('lw_password')\n",
    "\n",
    "LW_payload = {'username': LW_username, 'password': LW_password}\n",
    "loginurl = ('https://osteostrong.org/auth')\n",
    "with requests.session() as s:\n",
    "    s.post(loginurl, data=LW_payload)\n",
    "    for x in locations:\n",
    "        try:\n",
    "            data = s.get(x).text\n",
    "            jsondata = json.loads(data)\n",
    "            good.append(x)\n",
    "        except:\n",
    "            print('bad')\n",
    "        finally:\n",
    "            print(x)\n",
    "\n"
   ]
  },
  {
   "cell_type": "code",
   "execution_count": null,
   "metadata": {},
   "outputs": [],
   "source": [
    "url=https://osteostrong.org/location/get?lid=00012"
   ]
  },
  {
   "cell_type": "code",
   "execution_count": null,
   "metadata": {},
   "outputs": [],
   "source": [
    "LW_username = config('lw_username')\n",
    "LW_password = config('lw_password')\n",
    "\n",
    "LW_payload = {'username': LW_username, 'password': LW_password}\n",
    "loginurl = ('https://osteostrong.org/auth')\n",
    "with requests.session() as s:\n",
    "    s.post(loginurl, data=LW_payload)\n",
    "    for url in locations:\n",
    "        data = s.get(url).text\n",
    "        try:\n",
    "            jsondata = json.loads(data)\n",
    "            good.append(url)\n",
    "\n",
    "        except:\n",
    "            print(url)\n",
    "        \n",
    "        \n",
    "\n"
   ]
  },
  {
   "cell_type": "code",
   "execution_count": null,
   "metadata": {},
   "outputs": [],
   "source": [
    "url\n",
    "data = requests.get(url)\n",
    "\n",
    "# jsondata = json.loads(data.text)\n",
    "# good.append(url)"
   ]
  },
  {
   "cell_type": "code",
   "execution_count": null,
   "metadata": {},
   "outputs": [],
   "source": [
    "s.close()"
   ]
  },
  {
   "cell_type": "code",
   "execution_count": null,
   "metadata": {},
   "outputs": [],
   "source": []
  }
 ],
 "metadata": {
  "interpreter": {
   "hash": "3067ead486e059ec00ffe7555bdb889e6e264a24dc711bf108106cc7baee8d5d"
  },
  "kernelspec": {
   "display_name": "Python 3.8.8 ('base')",
   "language": "python",
   "name": "python3"
  },
  "language_info": {
   "codemirror_mode": {
    "name": "ipython",
    "version": 3
   },
   "file_extension": ".py",
   "mimetype": "text/x-python",
   "name": "python",
   "nbconvert_exporter": "python",
   "pygments_lexer": "ipython3",
   "version": "3.8.8"
  },
  "orig_nbformat": 4
 },
 "nbformat": 4,
 "nbformat_minor": 2
}
