{
 "cells": [
  {
   "cell_type": "code",
   "execution_count": 6,
   "metadata": {},
   "outputs": [],
   "source": [
    "from bs4 import BeautifulSoup\n",
    "import pandas as pd\n",
    "import numpy as np\n",
    "import requests\n",
    "import json\n",
    "from decouple import config\n",
    "\n",
    "import csv \n",
    "import smtplib\n",
    "from pandas import json_normalize\n",
    "from sqlalchemy import create_engine\n",
    "import psycopg2\n",
    "from email.message import EmailMessage\n",
    "from datetime import datetime, timedelta\n"
   ]
  },
  {
   "cell_type": "code",
   "execution_count": 1,
   "metadata": {},
   "outputs": [
    {
     "name": "stdout",
     "output_type": "stream",
     "text": [
      "https://osteostrong.org/user/users?LocationId=00093\n"
     ]
    }
   ],
   "source": []
  },
  {
   "cell_type": "code",
   "execution_count": 8,
   "metadata": {},
   "outputs": [
    {
     "name": "stdout",
     "output_type": "stream",
     "text": [
      "Email sent!\n"
     ]
    }
   ],
   "source": [
    "username = config('DTC_username')\n",
    "password = config('DTC_password')\n",
    "\n",
    "payload = {'username': username, 'password': password}\n",
    "login = ('https://osteostrong.org/auth')\n",
    "\n",
    "lid='00093'\n",
    "\n",
    "with requests.session() as s:\n",
    "    s.post(login, data=payload)\n",
    "    url = f'https://osteostrong.org/user/users?LocationId={lid}'\n",
    "    r = s.get(url).text\n",
    "    jsondata=json.loads(r)    \n",
    "s.close()\n",
    "metrics=[]\n",
    "# x=int(input())\n",
    "current_date = datetime.now()\n",
    "cd=current_date.strftime(\"%m-%d-%Y\") \n",
    "activelimit=(current_date - timedelta(days=35)).strftime(\"%m-%d-%Y\")\n",
    "al=datetime.strptime(activelimit, \"%m-%d-%Y\")\n",
    "for i in range(len(jsondata)):    \n",
    "    userid=jsondata[i]['UserId']['S']\n",
    "    firstname=jsondata[i]['FirstName']['S']\n",
    "    lastname=jsondata[i]['LastName']['S']\n",
    "    email=jsondata[i]['Email']['S']\n",
    "    active=None\n",
    "    try:\n",
    "       last_sesh=jsondata[i]['Sessions']['M']['Core']['L'][-1]['M']['Date']['S']       \n",
    "       last_sesh=pd.to_datetime(last_sesh)\n",
    "       sesh_count=len(jsondata[i]['Sessions']['M']['Core']['L'])\n",
    "       if last_sesh > al:\n",
    "           active=True        \n",
    "    except:\n",
    "        last_sesh=None        \n",
    "        sesh_count=0\n",
    "    finally:\n",
    "        metrics.append([userid,firstname,lastname,email,last_sesh,sesh_count,active])\n",
    "columns=['UserId','FirstName','LastName','Email','LastSession','SessionCount','Active']\n",
    "metrics_df=pd.DataFrame(metrics,columns=columns)\n",
    "metrics_df.to_excel(f'DTC_DATA.xlsx')\n",
    "metrics_dropped=metrics_df.dropna().reset_index(drop=True)\n",
    "alert=[]\n",
    "list = [4,9,24,49,74,99,124,149,199]\n",
    "for k, v in metrics_dropped['SessionCount'].items():\n",
    "    if v in list:\n",
    "        alert.append(metrics_dropped.loc[k,['FirstName','LastName','SessionCount']])\n",
    "alert=pd.DataFrame(alert,columns=['FirstName','LastName','SessionCount']).sort_values(by='SessionCount',ascending=False)\n",
    "alert.reset_index(drop=True,inplace=True)\n",
    "\n",
    "alert.to_excel(f'/Users/dreamscape08/Desktop/OS_METRICS/shadowbox/{lid}_{cd}.xlsx', header=True,index=False)\n",
    "dbusername = config('pg_username')\n",
    "dbpassword = config('pg_password')\n",
    "host = 'localhost'\n",
    "port = '5432'\n",
    "database = 'osteostrong'\n",
    "postgres_str = f'postgresql://{dbusername}:{dbpassword}@{host}:{port}/{database}'\n",
    "cnx=create_engine(postgres_str)\n",
    "metrics_dropped.to_sql(f'{lid}_Active', cnx, if_exists='replace',index=False)\n",
    "operations_manager = config('opm_email')\n",
    "sender_proton = config('proton_email')\n",
    "p_key = config('proton_key')\n",
    "to = f'{operations_manager}'\n",
    "admin_email = f'{sender_proton}' # (You should provide your gmail account name)\n",
    "admin_pass = f'{p_key}' # (You should provide your gmail password)\n",
    "\n",
    "pathnow=f'/Users/dreamscape08/Desktop/OS_METRICS/shadowbox/{lid}_{cd}.xlsx'\n",
    "def send_mail_with_excel():\n",
    "    msg = EmailMessage()\n",
    "    msg['Subject'] = f'DTC FUB ALERTS-{cd}'\n",
    "    msg['From'] = admin_email\n",
    "    msg['To'] = to\n",
    "    msg.set_content(f'{alert}')\n",
    "\n",
    "    with open(pathnow, 'rb') as f:\n",
    "        file_data = f.read()\n",
    "    msg.add_attachment(file_data, maintype=\"application\", subtype=\"vnd.openxmlformats-officedocument.spreadsheetml.sheet\", filename=f'DTC_FUB_{cd}.xlsx')\n",
    "\n",
    "    with smtplib.SMTP(host,1025) as smtpserver:\n",
    "        smtpserver.ehlo()\n",
    "        smtpserver.starttls()\n",
    "        smtpserver.ehlo\n",
    "        smtpserver.login(admin_email, admin_pass)\n",
    "        smtpserver.send_message(msg)\n",
    "        print('Email sent!')\n",
    "        smtpserver.close() \n",
    "send_mail_with_excel()"
   ]
  },
  {
   "cell_type": "code",
   "execution_count": null,
   "metadata": {},
   "outputs": [],
   "source": []
  }
 ],
 "metadata": {
  "interpreter": {
   "hash": "3067ead486e059ec00ffe7555bdb889e6e264a24dc711bf108106cc7baee8d5d"
  },
  "kernelspec": {
   "display_name": "Python 3.8.8 ('base')",
   "language": "python",
   "name": "python3"
  },
  "language_info": {
   "codemirror_mode": {
    "name": "ipython",
    "version": 3
   },
   "file_extension": ".py",
   "mimetype": "text/x-python",
   "name": "python",
   "nbconvert_exporter": "python",
   "pygments_lexer": "ipython3",
   "version": "3.8.8"
  },
  "orig_nbformat": 4
 },
 "nbformat": 4,
 "nbformat_minor": 2
}
