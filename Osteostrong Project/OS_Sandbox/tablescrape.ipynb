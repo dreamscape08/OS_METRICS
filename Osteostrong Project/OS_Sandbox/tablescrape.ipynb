{
 "cells": [
  {
   "cell_type": "code",
   "execution_count": null,
   "metadata": {},
   "outputs": [],
   "source": [
    "from bs4 import BeautifulSoup\n",
    "import pandas as pd\n",
    "import numpy as np\n",
    "import requests\n",
    "import json\n",
    "from decouple import config\n",
    "from urllib import request\n",
    "import csv \n",
    "import datetime\n",
    "import smtplib\n",
    "from pandas import json_normalize\n",
    "from sqlalchemy import create_engine\n",
    "import psycopg2\n",
    "from email.message import EmailMessage"
   ]
  },
  {
   "cell_type": "code",
   "execution_count": 286,
   "metadata": {},
   "outputs": [],
   "source": [
    "DTC_username = config('DTC_username')\n",
    "DTC_password = config('DTC_password')\n",
    "\n",
    "DTC_payload = {'username': DTC_username, 'password': DTC_password}\n",
    "loginurl = ('https://osteostrong.org/auth')\n",
    "DTC_totals = []\n",
    "\n",
    "with requests.session() as s:\n",
    "    s.post(loginurl, data=DTC_payload)\n",
    "    DTC_url = f'https://osteostrong.org/user/users?LocationId=00053'\n",
    "    DTC_r = s.get(DTC_url).text\n",
    "    jsondata=json.loads(DTC_r)    \n",
    "    df=pd.json_normalize(jsondata,max_level=0)\n",
    "    # franchisedata=df.drop(columns=['Admins'])\n",
    "    # admindata=df.Admins.values[0]"
   ]
  },
  {
   "cell_type": "code",
   "execution_count": null,
   "metadata": {},
   "outputs": [],
   "source": [
    "js = {'bucket_0': [{'key': 'foo',\n",
    "   'level_1': {'bucket_1': [{'key': 'bar',\n",
    "      'level_2': {'bucket_2': [{'key': 'baz', 'max': {'value': 100}}]}}]}}]}\n",
    "\n",
    "df = pd.json_normalize(js[\"bucket_0\"]).explode(\"level_1.bucket_1\").set_index(\"key\")\n",
    "df = df[\"level_1.bucket_1\"].apply(pd.Series).set_index(\"key\", append=True)\n",
    "df = df[\"level_2\"].apply(pd.Series).explode(\"bucket_2\")\n",
    "df = df[\"bucket_2\"].apply(pd.Series).set_index(\"key\", append=True)\n",
    "df[\"max\"].apply(pd.Series).rename_axis(index=[\"l1\",\"l2\",\"l3\"])\n",
    "\n"
   ]
  },
  {
   "cell_type": "code",
   "execution_count": null,
   "metadata": {},
   "outputs": [],
   "source": [
    "# df=df.set_index('UserId')\n",
    "sessions= pd.DataFrame(df.Sessions.values)"
   ]
  },
  {
   "cell_type": "code",
   "execution_count": null,
   "metadata": {},
   "outputs": [],
   "source": [
    "for k,v in sessions.items:\n",
    "    print(k,v)\n"
   ]
  },
  {
   "cell_type": "code",
   "execution_count": null,
   "metadata": {},
   "outputs": [],
   "source": [
    "for k,v in sessions.items():\n",
    "    print(\"\\nPerson ID:\", k)\n",
    "    for key in v:\n",
    "        try:\n",
    "            print(key)\n",
    "            print(v[key])\n",
    "        "
   ]
  },
  {
   "cell_type": "code",
   "execution_count": null,
   "metadata": {},
   "outputs": [],
   "source": []
  },
  {
   "cell_type": "code",
   "execution_count": null,
   "metadata": {},
   "outputs": [],
   "source": []
  },
  {
   "cell_type": "code",
   "execution_count": null,
   "metadata": {},
   "outputs": [],
   "source": []
  },
  {
   "cell_type": "code",
   "execution_count": null,
   "metadata": {},
   "outputs": [],
   "source": []
  },
  {
   "cell_type": "code",
   "execution_count": null,
   "metadata": {},
   "outputs": [],
   "source": []
  },
  {
   "cell_type": "code",
   "execution_count": null,
   "metadata": {},
   "outputs": [],
   "source": []
  },
  {
   "cell_type": "code",
   "execution_count": null,
   "metadata": {},
   "outputs": [],
   "source": [
    "listofdicks=df['Sessions.M.Core.L']"
   ]
  },
  {
   "cell_type": "code",
   "execution_count": null,
   "metadata": {},
   "outputs": [],
   "source": [
    "for dict in listofdicks:\n",
    "    for dic in dict:\n",
    "        for di in dic:\n",
    "            print(dic[di]['Date']['S'])\n"
   ]
  },
  {
   "cell_type": "code",
   "execution_count": null,
   "metadata": {},
   "outputs": [],
   "source": []
  },
  {
   "cell_type": "code",
   "execution_count": null,
   "metadata": {},
   "outputs": [],
   "source": []
  },
  {
   "cell_type": "code",
   "execution_count": null,
   "metadata": {},
   "outputs": [],
   "source": []
  },
  {
   "cell_type": "code",
   "execution_count": null,
   "metadata": {},
   "outputs": [],
   "source": []
  },
  {
   "cell_type": "code",
   "execution_count": null,
   "metadata": {},
   "outputs": [],
   "source": []
  },
  {
   "cell_type": "code",
   "execution_count": null,
   "metadata": {},
   "outputs": [],
   "source": []
  },
  {
   "cell_type": "code",
   "execution_count": null,
   "metadata": {},
   "outputs": [],
   "source": []
  },
  {
   "cell_type": "code",
   "execution_count": null,
   "metadata": {},
   "outputs": [],
   "source": []
  },
  {
   "cell_type": "code",
   "execution_count": null,
   "metadata": {},
   "outputs": [],
   "source": []
  },
  {
   "cell_type": "code",
   "execution_count": null,
   "metadata": {},
   "outputs": [],
   "source": []
  },
  {
   "cell_type": "code",
   "execution_count": null,
   "metadata": {},
   "outputs": [],
   "source": []
  },
  {
   "cell_type": "code",
   "execution_count": null,
   "metadata": {},
   "outputs": [],
   "source": []
  },
  {
   "cell_type": "code",
   "execution_count": null,
   "metadata": {},
   "outputs": [],
   "source": []
  },
  {
   "cell_type": "code",
   "execution_count": null,
   "metadata": {},
   "outputs": [],
   "source": []
  },
  {
   "cell_type": "code",
   "execution_count": null,
   "metadata": {},
   "outputs": [],
   "source": []
  },
  {
   "cell_type": "code",
   "execution_count": null,
   "metadata": {},
   "outputs": [],
   "source": [
    "df[['Sessions.M.Core', 'Sessions.M.Lower','Sessions.M.Postural', 'Sessions.M.Upper'].items()]"
   ]
  },
  {
   "cell_type": "code",
   "execution_count": null,
   "metadata": {},
   "outputs": [],
   "source": [
    "items=list(df[['Sessions.M.Core']].items())"
   ]
  },
  {
   "cell_type": "code",
   "execution_count": null,
   "metadata": {},
   "outputs": [],
   "source": [
    "pd.DataFrame(items)"
   ]
  },
  {
   "cell_type": "code",
   "execution_count": null,
   "metadata": {},
   "outputs": [],
   "source": [
    "df_sessions=pd.DataFrame.from_dict(df, orient='index')"
   ]
  },
  {
   "cell_type": "code",
   "execution_count": null,
   "metadata": {},
   "outputs": [],
   "source": [
    "df_sessions=df_sessions[['Sessions.M.Core']]"
   ]
  },
  {
   "cell_type": "code",
   "execution_count": null,
   "metadata": {},
   "outputs": [],
   "source": [
    "new_df=pd.DataFrame.from_dict(df_sessions, orient='columns')\n"
   ]
  },
  {
   "cell_type": "code",
   "execution_count": null,
   "metadata": {},
   "outputs": [],
   "source": [
    "x=new_df.to_dict()"
   ]
  },
  {
   "cell_type": "code",
   "execution_count": null,
   "metadata": {},
   "outputs": [],
   "source": [
    "x.keys()"
   ]
  },
  {
   "cell_type": "code",
   "execution_count": null,
   "metadata": {},
   "outputs": [],
   "source": [
    "x=pd.DataFrame(x)"
   ]
  },
  {
   "cell_type": "code",
   "execution_count": null,
   "metadata": {},
   "outputs": [],
   "source": [
    "x.transpose()"
   ]
  },
  {
   "cell_type": "code",
   "execution_count": null,
   "metadata": {},
   "outputs": [],
   "source": [
    "rows=[]\n",
    "for data in jsondata:\n",
    "    data_row=data[\"Sessions\"].content()\n",
    "    \n",
    "    "
   ]
  },
  {
   "cell_type": "code",
   "execution_count": null,
   "metadata": {},
   "outputs": [],
   "source": []
  },
  {
   "cell_type": "code",
   "execution_count": null,
   "metadata": {},
   "outputs": [],
   "source": []
  },
  {
   "cell_type": "code",
   "execution_count": null,
   "metadata": {},
   "outputs": [],
   "source": []
  },
  {
   "cell_type": "code",
   "execution_count": null,
   "metadata": {},
   "outputs": [],
   "source": [
    "###########################################################################################################################################################"
   ]
  },
  {
   "cell_type": "code",
   "execution_count": 287,
   "metadata": {},
   "outputs": [
    {
     "data": {
      "text/html": [
       "<div>\n",
       "<style scoped>\n",
       "    .dataframe tbody tr th:only-of-type {\n",
       "        vertical-align: middle;\n",
       "    }\n",
       "\n",
       "    .dataframe tbody tr th {\n",
       "        vertical-align: top;\n",
       "    }\n",
       "\n",
       "    .dataframe thead th {\n",
       "        text-align: right;\n",
       "    }\n",
       "</style>\n",
       "<table border=\"1\" class=\"dataframe\">\n",
       "  <thead>\n",
       "    <tr style=\"text-align: right;\">\n",
       "      <th></th>\n",
       "      <th>RecieveText</th>\n",
       "      <th>HeightFt</th>\n",
       "      <th>UStatus</th>\n",
       "      <th>PrescriptionDensity</th>\n",
       "      <th>Weight</th>\n",
       "      <th>DataConsent</th>\n",
       "      <th>UserId</th>\n",
       "      <th>Positions</th>\n",
       "      <th>Exercise</th>\n",
       "      <th>Phone</th>\n",
       "      <th>...</th>\n",
       "      <th>HeightIn</th>\n",
       "      <th>FirstName</th>\n",
       "      <th>LastName</th>\n",
       "      <th>BirthYear</th>\n",
       "      <th>Fitness</th>\n",
       "      <th>NfcId</th>\n",
       "      <th>Active</th>\n",
       "      <th>PerfGain</th>\n",
       "      <th>OGT</th>\n",
       "      <th>Password</th>\n",
       "    </tr>\n",
       "  </thead>\n",
       "  <tbody>\n",
       "    <tr>\n",
       "      <th>0</th>\n",
       "      <td>{'S': 'yes'}</td>\n",
       "      <td>{'S': '5'}</td>\n",
       "      <td>{'S': 'Active'}</td>\n",
       "      <td>{'S': 'no'}</td>\n",
       "      <td>{'S': '185'}</td>\n",
       "      <td>{'S': 'yes'}</td>\n",
       "      <td>{'S': '0073bc198c037e6e1b584dbe1126e469'}</td>\n",
       "      <td>{'M': {'Core': {'N': '5'}, 'Lower': {'N': '10'...</td>\n",
       "      <td>{'S': 'yes'}</td>\n",
       "      <td>{'S': '2014173122'}</td>\n",
       "      <td>...</td>\n",
       "      <td>{'S': '6'}</td>\n",
       "      <td>{'S': 'John'}</td>\n",
       "      <td>{'S': 'Young'}</td>\n",
       "      <td>{'S': '1941'}</td>\n",
       "      <td>{'S': '5'}</td>\n",
       "      <td>NaN</td>\n",
       "      <td>NaN</td>\n",
       "      <td>NaN</td>\n",
       "      <td>NaN</td>\n",
       "      <td>NaN</td>\n",
       "    </tr>\n",
       "    <tr>\n",
       "      <th>1</th>\n",
       "      <td>{'S': 'yes'}</td>\n",
       "      <td>{'S': '5'}</td>\n",
       "      <td>{'S': 'Active'}</td>\n",
       "      <td>{'S': 'no'}</td>\n",
       "      <td>{'S': '148'}</td>\n",
       "      <td>{'S': 'yes'}</td>\n",
       "      <td>{'S': '00b8743866990c88af2082ee32c0a002'}</td>\n",
       "      <td>{'M': {'Core': {'N': '5'}, 'Lower': {'N': '8'}...</td>\n",
       "      <td>{'S': 'yes'}</td>\n",
       "      <td>{'S': '3037261314'}</td>\n",
       "      <td>...</td>\n",
       "      <td>{'S': '4'}</td>\n",
       "      <td>{'S': 'Diane'}</td>\n",
       "      <td>{'S': 'Cerveny'}</td>\n",
       "      <td>{'S': '1952'}</td>\n",
       "      <td>{'S': '10'}</td>\n",
       "      <td>{'S': '24713375'}</td>\n",
       "      <td>NaN</td>\n",
       "      <td>NaN</td>\n",
       "      <td>NaN</td>\n",
       "      <td>NaN</td>\n",
       "    </tr>\n",
       "    <tr>\n",
       "      <th>2</th>\n",
       "      <td>{'S': 'yes'}</td>\n",
       "      <td>{'S': '5'}</td>\n",
       "      <td>{'S': 'Active'}</td>\n",
       "      <td>{'S': 'no'}</td>\n",
       "      <td>{'S': '160'}</td>\n",
       "      <td>{'S': 'yes'}</td>\n",
       "      <td>{'S': '013cff5907375c757d5cee81b527e525'}</td>\n",
       "      <td>{'M': {'Core': {'N': '5'}, 'Lower': {'N': '12'...</td>\n",
       "      <td>{'S': 'no'}</td>\n",
       "      <td>{'S': '3039407655'}</td>\n",
       "      <td>...</td>\n",
       "      <td>{'S': '2'}</td>\n",
       "      <td>{'S': 'Arnelle'}</td>\n",
       "      <td>{'S': 'Burg'}</td>\n",
       "      <td>{'S': '1951'}</td>\n",
       "      <td>{'S': '5'}</td>\n",
       "      <td>{'S': '08105701'}</td>\n",
       "      <td>NaN</td>\n",
       "      <td>NaN</td>\n",
       "      <td>NaN</td>\n",
       "      <td>NaN</td>\n",
       "    </tr>\n",
       "    <tr>\n",
       "      <th>3</th>\n",
       "      <td>{'S': 'yes'}</td>\n",
       "      <td>{'S': '6'}</td>\n",
       "      <td>{'S': 'Active'}</td>\n",
       "      <td>{'S': 'no'}</td>\n",
       "      <td>{'S': '160'}</td>\n",
       "      <td>{'S': 'yes'}</td>\n",
       "      <td>{'S': '0192243155d20d0aa8188501c82c1dc8'}</td>\n",
       "      <td>{'M': {'Core': {'N': '7'}, 'Lower': {'N': '3'}...</td>\n",
       "      <td>{'S': 'yes'}</td>\n",
       "      <td>{'S': '3038292343'}</td>\n",
       "      <td>...</td>\n",
       "      <td>{'S': '4'}</td>\n",
       "      <td>{'S': 'Darrian'}</td>\n",
       "      <td>{'S': 'Leu-Pierre'}</td>\n",
       "      <td>{'S': '2001'}</td>\n",
       "      <td>{'S': '10'}</td>\n",
       "      <td>NaN</td>\n",
       "      <td>NaN</td>\n",
       "      <td>NaN</td>\n",
       "      <td>NaN</td>\n",
       "      <td>NaN</td>\n",
       "    </tr>\n",
       "    <tr>\n",
       "      <th>4</th>\n",
       "      <td>{'S': 'yes'}</td>\n",
       "      <td>{'S': '6'}</td>\n",
       "      <td>{'S': 'Active'}</td>\n",
       "      <td>{'S': 'no'}</td>\n",
       "      <td>{'S': '210'}</td>\n",
       "      <td>{'S': 'yes'}</td>\n",
       "      <td>{'S': '0199f86a4fead020cb4844bd3352815a'}</td>\n",
       "      <td>{'M': {'Core': {'N': '6'}, 'Lower': {'N': '4'}...</td>\n",
       "      <td>{'S': 'yes'}</td>\n",
       "      <td>{'S': '3039133032'}</td>\n",
       "      <td>...</td>\n",
       "      <td>{'S': '0'}</td>\n",
       "      <td>{'S': 'Richard'}</td>\n",
       "      <td>{'S': 'Oliver'}</td>\n",
       "      <td>{'S': '1953'}</td>\n",
       "      <td>{'S': '10'}</td>\n",
       "      <td>{'S': '02319831'}</td>\n",
       "      <td>NaN</td>\n",
       "      <td>NaN</td>\n",
       "      <td>NaN</td>\n",
       "      <td>NaN</td>\n",
       "    </tr>\n",
       "    <tr>\n",
       "      <th>...</th>\n",
       "      <td>...</td>\n",
       "      <td>...</td>\n",
       "      <td>...</td>\n",
       "      <td>...</td>\n",
       "      <td>...</td>\n",
       "      <td>...</td>\n",
       "      <td>...</td>\n",
       "      <td>...</td>\n",
       "      <td>...</td>\n",
       "      <td>...</td>\n",
       "      <td>...</td>\n",
       "      <td>...</td>\n",
       "      <td>...</td>\n",
       "      <td>...</td>\n",
       "      <td>...</td>\n",
       "      <td>...</td>\n",
       "      <td>...</td>\n",
       "      <td>...</td>\n",
       "      <td>...</td>\n",
       "      <td>...</td>\n",
       "      <td>...</td>\n",
       "    </tr>\n",
       "    <tr>\n",
       "      <th>1478</th>\n",
       "      <td>{'S': 'yes'}</td>\n",
       "      <td>{'S': '5'}</td>\n",
       "      <td>{'S': 'Active'}</td>\n",
       "      <td>{'S': 'no'}</td>\n",
       "      <td>{'S': '145'}</td>\n",
       "      <td>{'S': 'yes'}</td>\n",
       "      <td>{'S': 'fe8fcc526e34cd76f81a3e3ea4ba8147'}</td>\n",
       "      <td>{'M': {'Core': {'N': '3'}, 'Lower': {'N': '12'...</td>\n",
       "      <td>{'S': 'yes'}</td>\n",
       "      <td>{'S': '3039109198'}</td>\n",
       "      <td>...</td>\n",
       "      <td>{'S': '1'}</td>\n",
       "      <td>{'S': 'Dianne'}</td>\n",
       "      <td>{'S': 'Hoon'}</td>\n",
       "      <td>{'S': '1942'}</td>\n",
       "      <td>{'S': '10'}</td>\n",
       "      <td>{'S': '07134255'}</td>\n",
       "      <td>NaN</td>\n",
       "      <td>NaN</td>\n",
       "      <td>NaN</td>\n",
       "      <td>NaN</td>\n",
       "    </tr>\n",
       "    <tr>\n",
       "      <th>1479</th>\n",
       "      <td>{'S': 'yes'}</td>\n",
       "      <td>{'S': '5'}</td>\n",
       "      <td>{'S': 'Active'}</td>\n",
       "      <td>{'S': 'no'}</td>\n",
       "      <td>{'S': '135'}</td>\n",
       "      <td>{'S': 'yes'}</td>\n",
       "      <td>{'S': 'feb45b8a2123ced22c93f12cabff1b16'}</td>\n",
       "      <td>{'M': {'Core': {'N': '5'}, 'Lower': {'N': '10'...</td>\n",
       "      <td>{'S': 'yes'}</td>\n",
       "      <td>{'S': '7204694712'}</td>\n",
       "      <td>...</td>\n",
       "      <td>{'S': '8'}</td>\n",
       "      <td>{'S': 'Lillian'}</td>\n",
       "      <td>{'S': 'Prymak'}</td>\n",
       "      <td>{'S': '1960'}</td>\n",
       "      <td>{'S': '5'}</td>\n",
       "      <td>{'S': '07136150'}</td>\n",
       "      <td>NaN</td>\n",
       "      <td>NaN</td>\n",
       "      <td>NaN</td>\n",
       "      <td>NaN</td>\n",
       "    </tr>\n",
       "    <tr>\n",
       "      <th>1480</th>\n",
       "      <td>{'S': 'yes'}</td>\n",
       "      <td>{'S': '5'}</td>\n",
       "      <td>{'S': 'Active'}</td>\n",
       "      <td>{'S': 'no'}</td>\n",
       "      <td>{'S': '200'}</td>\n",
       "      <td>{'S': 'yes'}</td>\n",
       "      <td>{'S': 'ffb1d9069efa313dc2e667a225c16bab'}</td>\n",
       "      <td>{'M': {'Core': {'N': '5'}, 'Lower': {'N': '7'}...</td>\n",
       "      <td>{'S': 'no'}</td>\n",
       "      <td>{'S': '3036983293'}</td>\n",
       "      <td>...</td>\n",
       "      <td>{'S': '7'}</td>\n",
       "      <td>{'S': 'Suzan'}</td>\n",
       "      <td>{'S': 'Sailor'}</td>\n",
       "      <td>{'S': '1955'}</td>\n",
       "      <td>{'S': '10'}</td>\n",
       "      <td>{'S': '22455069'}</td>\n",
       "      <td>NaN</td>\n",
       "      <td>NaN</td>\n",
       "      <td>NaN</td>\n",
       "      <td>NaN</td>\n",
       "    </tr>\n",
       "    <tr>\n",
       "      <th>1481</th>\n",
       "      <td>{'S': 'yes'}</td>\n",
       "      <td>{'S': '5'}</td>\n",
       "      <td>{'S': 'Active'}</td>\n",
       "      <td>{'S': 'no'}</td>\n",
       "      <td>{'S': '128'}</td>\n",
       "      <td>{'S': 'yes'}</td>\n",
       "      <td>{'S': 'ffca66d304bee6964cf3f349c8609400'}</td>\n",
       "      <td>{'M': {'Core': {'N': '5'}, 'Lower': {'N': '9'}...</td>\n",
       "      <td>{'S': 'no'}</td>\n",
       "      <td>{'S': '9707697109'}</td>\n",
       "      <td>...</td>\n",
       "      <td>{'S': '4'}</td>\n",
       "      <td>{'S': 'Alexa'}</td>\n",
       "      <td>{'S': 'Arribau'}</td>\n",
       "      <td>{'S': '1976'}</td>\n",
       "      <td>{'S': '5'}</td>\n",
       "      <td>NaN</td>\n",
       "      <td>NaN</td>\n",
       "      <td>NaN</td>\n",
       "      <td>NaN</td>\n",
       "      <td>NaN</td>\n",
       "    </tr>\n",
       "    <tr>\n",
       "      <th>1482</th>\n",
       "      <td>{'S': 'yes'}</td>\n",
       "      <td>{'S': '5'}</td>\n",
       "      <td>{'S': 'Active'}</td>\n",
       "      <td>{'S': 'no'}</td>\n",
       "      <td>{'S': '160'}</td>\n",
       "      <td>{'S': 'yes'}</td>\n",
       "      <td>{'S': 'fff5aeadb59ea35a229cc9c9a0a2acb9'}</td>\n",
       "      <td>{'M': {'Core': {'N': '5'}, 'Lower': {'N': '7'}...</td>\n",
       "      <td>{'S': 'yes'}</td>\n",
       "      <td>{'S': '3035706575'}</td>\n",
       "      <td>...</td>\n",
       "      <td>{'S': '10'}</td>\n",
       "      <td>{'S': 'Kathleen'}</td>\n",
       "      <td>{'S': 'Courtney'}</td>\n",
       "      <td>{'S': '1973'}</td>\n",
       "      <td>{'S': '10'}</td>\n",
       "      <td>{'S': '07149591'}</td>\n",
       "      <td>NaN</td>\n",
       "      <td>NaN</td>\n",
       "      <td>NaN</td>\n",
       "      <td>NaN</td>\n",
       "    </tr>\n",
       "  </tbody>\n",
       "</table>\n",
       "<p>1483 rows × 30 columns</p>\n",
       "</div>"
      ],
      "text/plain": [
       "       RecieveText    HeightFt          UStatus PrescriptionDensity  \\\n",
       "0     {'S': 'yes'}  {'S': '5'}  {'S': 'Active'}         {'S': 'no'}   \n",
       "1     {'S': 'yes'}  {'S': '5'}  {'S': 'Active'}         {'S': 'no'}   \n",
       "2     {'S': 'yes'}  {'S': '5'}  {'S': 'Active'}         {'S': 'no'}   \n",
       "3     {'S': 'yes'}  {'S': '6'}  {'S': 'Active'}         {'S': 'no'}   \n",
       "4     {'S': 'yes'}  {'S': '6'}  {'S': 'Active'}         {'S': 'no'}   \n",
       "...            ...         ...              ...                 ...   \n",
       "1478  {'S': 'yes'}  {'S': '5'}  {'S': 'Active'}         {'S': 'no'}   \n",
       "1479  {'S': 'yes'}  {'S': '5'}  {'S': 'Active'}         {'S': 'no'}   \n",
       "1480  {'S': 'yes'}  {'S': '5'}  {'S': 'Active'}         {'S': 'no'}   \n",
       "1481  {'S': 'yes'}  {'S': '5'}  {'S': 'Active'}         {'S': 'no'}   \n",
       "1482  {'S': 'yes'}  {'S': '5'}  {'S': 'Active'}         {'S': 'no'}   \n",
       "\n",
       "            Weight   DataConsent                                     UserId  \\\n",
       "0     {'S': '185'}  {'S': 'yes'}  {'S': '0073bc198c037e6e1b584dbe1126e469'}   \n",
       "1     {'S': '148'}  {'S': 'yes'}  {'S': '00b8743866990c88af2082ee32c0a002'}   \n",
       "2     {'S': '160'}  {'S': 'yes'}  {'S': '013cff5907375c757d5cee81b527e525'}   \n",
       "3     {'S': '160'}  {'S': 'yes'}  {'S': '0192243155d20d0aa8188501c82c1dc8'}   \n",
       "4     {'S': '210'}  {'S': 'yes'}  {'S': '0199f86a4fead020cb4844bd3352815a'}   \n",
       "...            ...           ...                                        ...   \n",
       "1478  {'S': '145'}  {'S': 'yes'}  {'S': 'fe8fcc526e34cd76f81a3e3ea4ba8147'}   \n",
       "1479  {'S': '135'}  {'S': 'yes'}  {'S': 'feb45b8a2123ced22c93f12cabff1b16'}   \n",
       "1480  {'S': '200'}  {'S': 'yes'}  {'S': 'ffb1d9069efa313dc2e667a225c16bab'}   \n",
       "1481  {'S': '128'}  {'S': 'yes'}  {'S': 'ffca66d304bee6964cf3f349c8609400'}   \n",
       "1482  {'S': '160'}  {'S': 'yes'}  {'S': 'fff5aeadb59ea35a229cc9c9a0a2acb9'}   \n",
       "\n",
       "                                              Positions      Exercise  \\\n",
       "0     {'M': {'Core': {'N': '5'}, 'Lower': {'N': '10'...  {'S': 'yes'}   \n",
       "1     {'M': {'Core': {'N': '5'}, 'Lower': {'N': '8'}...  {'S': 'yes'}   \n",
       "2     {'M': {'Core': {'N': '5'}, 'Lower': {'N': '12'...   {'S': 'no'}   \n",
       "3     {'M': {'Core': {'N': '7'}, 'Lower': {'N': '3'}...  {'S': 'yes'}   \n",
       "4     {'M': {'Core': {'N': '6'}, 'Lower': {'N': '4'}...  {'S': 'yes'}   \n",
       "...                                                 ...           ...   \n",
       "1478  {'M': {'Core': {'N': '3'}, 'Lower': {'N': '12'...  {'S': 'yes'}   \n",
       "1479  {'M': {'Core': {'N': '5'}, 'Lower': {'N': '10'...  {'S': 'yes'}   \n",
       "1480  {'M': {'Core': {'N': '5'}, 'Lower': {'N': '7'}...   {'S': 'no'}   \n",
       "1481  {'M': {'Core': {'N': '5'}, 'Lower': {'N': '9'}...   {'S': 'no'}   \n",
       "1482  {'M': {'Core': {'N': '5'}, 'Lower': {'N': '7'}...  {'S': 'yes'}   \n",
       "\n",
       "                    Phone  ...     HeightIn          FirstName  \\\n",
       "0     {'S': '2014173122'}  ...   {'S': '6'}      {'S': 'John'}   \n",
       "1     {'S': '3037261314'}  ...   {'S': '4'}     {'S': 'Diane'}   \n",
       "2     {'S': '3039407655'}  ...   {'S': '2'}   {'S': 'Arnelle'}   \n",
       "3     {'S': '3038292343'}  ...   {'S': '4'}   {'S': 'Darrian'}   \n",
       "4     {'S': '3039133032'}  ...   {'S': '0'}   {'S': 'Richard'}   \n",
       "...                   ...  ...          ...                ...   \n",
       "1478  {'S': '3039109198'}  ...   {'S': '1'}    {'S': 'Dianne'}   \n",
       "1479  {'S': '7204694712'}  ...   {'S': '8'}   {'S': 'Lillian'}   \n",
       "1480  {'S': '3036983293'}  ...   {'S': '7'}     {'S': 'Suzan'}   \n",
       "1481  {'S': '9707697109'}  ...   {'S': '4'}     {'S': 'Alexa'}   \n",
       "1482  {'S': '3035706575'}  ...  {'S': '10'}  {'S': 'Kathleen'}   \n",
       "\n",
       "                 LastName      BirthYear      Fitness              NfcId  \\\n",
       "0          {'S': 'Young'}  {'S': '1941'}   {'S': '5'}                NaN   \n",
       "1        {'S': 'Cerveny'}  {'S': '1952'}  {'S': '10'}  {'S': '24713375'}   \n",
       "2           {'S': 'Burg'}  {'S': '1951'}   {'S': '5'}  {'S': '08105701'}   \n",
       "3     {'S': 'Leu-Pierre'}  {'S': '2001'}  {'S': '10'}                NaN   \n",
       "4         {'S': 'Oliver'}  {'S': '1953'}  {'S': '10'}  {'S': '02319831'}   \n",
       "...                   ...            ...          ...                ...   \n",
       "1478        {'S': 'Hoon'}  {'S': '1942'}  {'S': '10'}  {'S': '07134255'}   \n",
       "1479      {'S': 'Prymak'}  {'S': '1960'}   {'S': '5'}  {'S': '07136150'}   \n",
       "1480      {'S': 'Sailor'}  {'S': '1955'}  {'S': '10'}  {'S': '22455069'}   \n",
       "1481     {'S': 'Arribau'}  {'S': '1976'}   {'S': '5'}                NaN   \n",
       "1482    {'S': 'Courtney'}  {'S': '1973'}  {'S': '10'}  {'S': '07149591'}   \n",
       "\n",
       "     Active PerfGain  OGT Password  \n",
       "0       NaN      NaN  NaN      NaN  \n",
       "1       NaN      NaN  NaN      NaN  \n",
       "2       NaN      NaN  NaN      NaN  \n",
       "3       NaN      NaN  NaN      NaN  \n",
       "4       NaN      NaN  NaN      NaN  \n",
       "...     ...      ...  ...      ...  \n",
       "1478    NaN      NaN  NaN      NaN  \n",
       "1479    NaN      NaN  NaN      NaN  \n",
       "1480    NaN      NaN  NaN      NaN  \n",
       "1481    NaN      NaN  NaN      NaN  \n",
       "1482    NaN      NaN  NaN      NaN  \n",
       "\n",
       "[1483 rows x 30 columns]"
      ]
     },
     "execution_count": 287,
     "metadata": {},
     "output_type": "execute_result"
    }
   ],
   "source": [
    "df"
   ]
  },
  {
   "cell_type": "code",
   "execution_count": null,
   "metadata": {},
   "outputs": [],
   "source": []
  },
  {
   "cell_type": "code",
   "execution_count": null,
   "metadata": {},
   "outputs": [],
   "source": []
  },
  {
   "cell_type": "code",
   "execution_count": null,
   "metadata": {},
   "outputs": [],
   "source": []
  },
  {
   "cell_type": "code",
   "execution_count": null,
   "metadata": {},
   "outputs": [],
   "source": []
  },
  {
   "cell_type": "code",
   "execution_count": null,
   "metadata": {},
   "outputs": [],
   "source": []
  },
  {
   "cell_type": "code",
   "execution_count": null,
   "metadata": {},
   "outputs": [],
   "source": []
  },
  {
   "cell_type": "code",
   "execution_count": null,
   "metadata": {},
   "outputs": [],
   "source": []
  },
  {
   "cell_type": "code",
   "execution_count": null,
   "metadata": {},
   "outputs": [],
   "source": []
  },
  {
   "cell_type": "code",
   "execution_count": null,
   "metadata": {},
   "outputs": [],
   "source": []
  },
  {
   "cell_type": "code",
   "execution_count": null,
   "metadata": {},
   "outputs": [],
   "source": []
  },
  {
   "cell_type": "code",
   "execution_count": null,
   "metadata": {},
   "outputs": [],
   "source": []
  },
  {
   "cell_type": "code",
   "execution_count": null,
   "metadata": {},
   "outputs": [],
   "source": []
  },
  {
   "cell_type": "code",
   "execution_count": null,
   "metadata": {},
   "outputs": [],
   "source": []
  },
  {
   "cell_type": "code",
   "execution_count": null,
   "metadata": {},
   "outputs": [],
   "source": []
  },
  {
   "cell_type": "code",
   "execution_count": null,
   "metadata": {},
   "outputs": [],
   "source": []
  },
  {
   "cell_type": "code",
   "execution_count": null,
   "metadata": {},
   "outputs": [],
   "source": []
  },
  {
   "cell_type": "code",
   "execution_count": null,
   "metadata": {},
   "outputs": [],
   "source": []
  },
  {
   "cell_type": "code",
   "execution_count": null,
   "metadata": {},
   "outputs": [],
   "source": []
  },
  {
   "cell_type": "code",
   "execution_count": null,
   "metadata": {},
   "outputs": [],
   "source": []
  }
 ],
 "metadata": {
  "interpreter": {
   "hash": "3067ead486e059ec00ffe7555bdb889e6e264a24dc711bf108106cc7baee8d5d"
  },
  "kernelspec": {
   "display_name": "Python 3.8.8 ('base')",
   "language": "python",
   "name": "python3"
  },
  "language_info": {
   "codemirror_mode": {
    "name": "ipython",
    "version": 3
   },
   "file_extension": ".py",
   "mimetype": "text/x-python",
   "name": "python",
   "nbconvert_exporter": "python",
   "pygments_lexer": "ipython3",
   "version": "3.8.8"
  },
  "orig_nbformat": 4
 },
 "nbformat": 4,
 "nbformat_minor": 2
}
