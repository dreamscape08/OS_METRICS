{
 "cells": [
  {
   "cell_type": "code",
   "execution_count": null,
   "metadata": {},
   "outputs": [],
   "source": [
    "from bs4 import BeautifulSoup\n",
    "import pandas as pd\n",
    "import numpy as np\n",
    "import requests\n",
    "import json\n",
    "from decouple import config\n",
    "from urllib import request\n",
    "import csv \n",
    "import datetime\n",
    "import smtplib\n",
    "from pandas import json_normalize\n",
    "from sqlalchemy import create_engine\n",
    "import psycopg2\n",
    "from email.message import EmailMessage"
   ]
  },
  {
   "cell_type": "code",
   "execution_count": null,
   "metadata": {},
   "outputs": [],
   "source": [
    "DTC_username = config('DTC_username')\n",
    "DTC_password = config('DTC_password')\n",
    "\n",
    "DTC_payload = {'username': DTC_username, 'password': DTC_password}\n",
    "loginurl = ('https://osteostrong.org/auth')\n",
    "DTC_totals = []\n",
    "\n",
    "with requests.session() as s:\n",
    "    s.post(loginurl, data=DTC_payload)\n",
    "    DTC_url = f'https://osteostrong.org/user/users?LocationId=00053'\n",
    "    DTC_r = s.get(DTC_url).text\n",
    "    jsondata=json.loads(DTC_r)    \n",
    "    df=pd.json_normalize(jsondata,max_level=0)"
   ]
  }
 ],
 "metadata": {
  "interpreter": {
   "hash": "3067ead486e059ec00ffe7555bdb889e6e264a24dc711bf108106cc7baee8d5d"
  },
  "kernelspec": {
   "display_name": "Python 3.8.8 ('base')",
   "language": "python",
   "name": "python3"
  },
  "language_info": {
   "name": "python",
   "version": "3.8.8"
  },
  "orig_nbformat": 4
 },
 "nbformat": 4,
 "nbformat_minor": 2
}
