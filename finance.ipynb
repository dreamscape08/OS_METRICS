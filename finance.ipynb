{
 "cells": [
  {
   "cell_type": "code",
   "execution_count": 2,
   "metadata": {},
   "outputs": [],
   "source": [
    "import requests"
   ]
  },
  {
   "cell_type": "code",
   "execution_count": 3,
   "metadata": {},
   "outputs": [],
   "source": [
    "url='**'\n",
    "response=requests.get(url)"
   ]
  },
  {
   "cell_type": "code",
   "execution_count": 11,
   "metadata": {},
   "outputs": [
    {
     "name": "stdout",
     "output_type": "stream",
     "text": [
      "(b'{\"response\": {}, \"meta\": {\"url\": \"https://api.ycharts.com/v3/companies/AAPL,'\n",
      " b'DDR/splits?start_date=2004-10-10&end_date=2015-01-12\", \"status\": \"error\", \"e'\n",
      " b'rror_code\": 401, \"error_message\": \"Missing/Invalid Authorization token.\"}}')\n"
     ]
    }
   ],
   "source": [
    "pprint(response.content)"
   ]
  },
  {
   "cell_type": "code",
   "execution_count": null,
   "metadata": {},
   "outputs": [],
   "source": []
  },
  {
   "cell_type": "code",
   "execution_count": null,
   "metadata": {},
   "outputs": [],
   "source": [
    "\n",
    "import yfinance as yf\n",
    "import mplfinance as mpf \n",
    "import numpy as np\n",
    "\n",
    "ticker = \"AAPL\"\n",
    "data = yf.download(ticker, start=\"2021-08-01\", end=\"2022-09-1\")\n",
    "mpf.plot(data)\n",
    "mpf.plot(data, type='candle')\n",
    "\n",
    "mpf.plot(data, type='candle', mav=8)\n"
   ]
  },
  {
   "cell_type": "code",
   "execution_count": null,
   "metadata": {},
   "outputs": [],
   "source": [
    "mpf.plot(data, type='candle', mav=(8, 20, 50))\n"
   ]
  },
  {
   "cell_type": "code",
   "execution_count": null,
   "metadata": {},
   "outputs": [],
   "source": [
    "mpf.plot(data, type='candle', mav=(8, 20, 50), volume=True)\n",
    "\n"
   ]
  },
  {
   "cell_type": "code",
   "execution_count": null,
   "metadata": {},
   "outputs": [],
   "source": [
    "\n",
    "data['MA20'] = data['Adj Close'].rolling(20).mean()\n",
    "data['MA50'] = data['Adj Close'].rolling(50).mean()\n",
    "data = data.dropna()\n",
    "\n",
    "buy_signals = []\n",
    "sell_signals = []\n",
    "\n",
    "for i in range(len(data)):\n",
    "    if (data['MA20'].iloc[i] > data['MA50'].iloc[i]) and (data['MA20'].iloc[i-1] < data['MA50'].iloc[i-1]):\n",
    "        buy_signals.append(data.iloc[i]['Adj Close'] * 0.98)\n",
    "    else:\n",
    "        buy_signals.append(np.nan)\n",
    "    \n",
    "    if (data['MA20'].iloc[i] < data['MA50'].iloc[i]) and (data['MA20'].iloc[i-1] > data['MA50'].iloc[i-1]):\n",
    "        sell_signals.append(data.iloc[i]['Adj Close'] * 1.02)\n",
    "    else:\n",
    "        sell_signals.append(np.nan)\n",
    "\n",
    "buy_markers = mpf.make_addplot(buy_signals, type='scatter', markersize=120, marker='^')\n",
    "sell_markers = mpf.make_addplot(sell_signals, type='scatter', markersize=120, marker='v')\n",
    "apds = [buy_markers, sell_markers]\n",
    "mpf.plot(data, type=\"candle\", addplot=apds)"
   ]
  },
  {
   "cell_type": "code",
   "execution_count": null,
   "metadata": {},
   "outputs": [],
   "source": [
    "\n",
    "import pandas as pd\n",
    "import yfinance as yf\n",
    "import statsmodels.api as sm\n",
    "import getFamaFrenchFactors as gff\n",
    "\n",
    "ticker = \"AMZN\"\n",
    "stock_data = yf.download(ticker, start=\"2016-06-30\", end=\"2021-07-31\")\n",
    "\n",
    "stock_prices = stock_data['Adj Close']\n",
    "stock_prices = stock_prices.resample(\"1M\").last()\n",
    "returns = stock_prices.pct_change()\n",
    "returns = returns.dropna()\n",
    "returns.name = \"Asset\"\n",
    "\n",
    "ff3_monthly = pd.DataFrame(gff.famaFrench3Factor(frequency='m'))\n",
    "ff3_monthly.rename(columns={\"date_ff_factors\": 'Date'}, inplace=True)\n",
    "ff3_monthly.set_index('Date', inplace=True)\n",
    "ff_data = ff3_monthly.merge(returns, on='Date')\n",
    "rf = ff_data['RF'].mean()\n",
    "market_premium = ff_data['Mkt-RF'].mean()\n",
    "\n",
    "X = ff_data['Mkt-RF']\n",
    "ff_data['Asset-RF'] = ff_data['Asset'] - ff_data['RF']\n",
    "y = ff_data['Asset-RF']\n",
    "c = sm.add_constant(X)\n",
    "capm_model = sm.OLS(y, c)\n",
    "result = capm_model.fit()\n",
    "print(result.summary())\n",
    "intercept, beta = result.params\n",
    "\n",
    "expected_return = rf + beta*market_premium\n",
    "print(\"Expected monthly returns: \" + str(expected_return))\n",
    "yearly_return = expected_return * 12\n",
    "print(\"Expected yearly returns: \" + str(yearly_return))"
   ]
  },
  {
   "cell_type": "code",
   "execution_count": null,
   "metadata": {},
   "outputs": [],
   "source": [
    "from pip import config"
   ]
  },
  {
   "cell_type": "code",
   "execution_count": null,
   "metadata": {},
   "outputs": [],
   "source": [
    "from decouple import config"
   ]
  },
  {
   "cell_type": "code",
   "execution_count": null,
   "metadata": {},
   "outputs": [],
   "source": [
    "sec = config('sec')\n",
    "sec"
   ]
  },
  {
   "cell_type": "code",
   "execution_count": null,
   "metadata": {},
   "outputs": [],
   "source": [
    "from sec_api import QueryApi\n",
    "\n",
    "queryApi = QueryApi(api_key=sec)\n",
    "\n",
    "query = {\n",
    "  \"query\": { \"query_string\": { \n",
    "      \"query\": \"ticker:TSLA AND filedAt:{2020-01-01 TO 2022-12-31} AND formType:\\\"10-Q\\\"\" \n",
    "    } },\n",
    "  \"from\": \"0\",\n",
    "  \"size\": \"10\",\n",
    "  \"sort\": [{ \"filedAt\": { \"order\": \"desc\" } }]\n",
    "}\n",
    "\n",
    "filings = queryApi.get_filings(query)\n",
    "\n",
    "pprint(filings)"
   ]
  },
  {
   "cell_type": "code",
   "execution_count": 7,
   "metadata": {},
   "outputs": [],
   "source": [
    "from pprint import pprint"
   ]
  },
  {
   "cell_type": "code",
   "execution_count": 1,
   "metadata": {},
   "outputs": [
    {
     "data": {
      "text/html": [
       "<div>\n",
       "<style scoped>\n",
       "    .dataframe tbody tr th:only-of-type {\n",
       "        vertical-align: middle;\n",
       "    }\n",
       "\n",
       "    .dataframe tbody tr th {\n",
       "        vertical-align: top;\n",
       "    }\n",
       "\n",
       "    .dataframe thead tr th {\n",
       "        text-align: left;\n",
       "    }\n",
       "</style>\n",
       "<table border=\"1\" class=\"dataframe\">\n",
       "  <thead>\n",
       "    <tr>\n",
       "      <th></th>\n",
       "      <th colspan=\"2\" halign=\"left\">A</th>\n",
       "      <th colspan=\"2\" halign=\"left\">B</th>\n",
       "    </tr>\n",
       "    <tr>\n",
       "      <th></th>\n",
       "      <th>a</th>\n",
       "      <th>b</th>\n",
       "      <th>a</th>\n",
       "      <th>b</th>\n",
       "    </tr>\n",
       "  </thead>\n",
       "  <tbody>\n",
       "    <tr>\n",
       "      <th>0</th>\n",
       "      <td>1</td>\n",
       "      <td>6</td>\n",
       "      <td>11</td>\n",
       "      <td>16</td>\n",
       "    </tr>\n",
       "    <tr>\n",
       "      <th>1</th>\n",
       "      <td>2</td>\n",
       "      <td>7</td>\n",
       "      <td>12</td>\n",
       "      <td>17</td>\n",
       "    </tr>\n",
       "    <tr>\n",
       "      <th>2</th>\n",
       "      <td>3</td>\n",
       "      <td>8</td>\n",
       "      <td>13</td>\n",
       "      <td>18</td>\n",
       "    </tr>\n",
       "    <tr>\n",
       "      <th>3</th>\n",
       "      <td>4</td>\n",
       "      <td>9</td>\n",
       "      <td>14</td>\n",
       "      <td>19</td>\n",
       "    </tr>\n",
       "    <tr>\n",
       "      <th>4</th>\n",
       "      <td>5</td>\n",
       "      <td>10</td>\n",
       "      <td>15</td>\n",
       "      <td>20</td>\n",
       "    </tr>\n",
       "  </tbody>\n",
       "</table>\n",
       "</div>"
      ],
      "text/plain": [
       "   A       B    \n",
       "   a   b   a   b\n",
       "0  1   6  11  16\n",
       "1  2   7  12  17\n",
       "2  3   8  13  18\n",
       "3  4   9  14  19\n",
       "4  5  10  15  20"
      ]
     },
     "execution_count": 1,
     "metadata": {},
     "output_type": "execute_result"
    }
   ],
   "source": [
    "import pandas as pd\n",
    "  \n",
    "# Nested dictionary to convert it\n",
    "# into multiindex dataframe\n",
    "nested_dict = {'A': {'a': [1, 2, 3,\n",
    "                           4, 5],\n",
    "                     'b': [6, 7, 8,\n",
    "                           9, 10]},\n",
    "  \n",
    "               'B': {'a': [11, 12, 13,\n",
    "                           14, 15],\n",
    "                     'b': [16, 17, 18,\n",
    "                           19, 20]}}\n",
    "  \n",
    "reformed_dict = {}\n",
    "for outerKey, innerDict in nested_dict.items():\n",
    "    for innerKey, values in innerDict.items():\n",
    "        reformed_dict[(outerKey,\n",
    "                       innerKey)] = values\n",
    "  \n",
    "# Multiindex dataframe\n",
    "\n",
    "multiIndex_df = pd.DataFrame(reformed_dict)\n",
    "multiIndex_df"
   ]
  }
 ],
 "metadata": {
  "interpreter": {
   "hash": "3067ead486e059ec00ffe7555bdb889e6e264a24dc711bf108106cc7baee8d5d"
  },
  "kernelspec": {
   "display_name": "Python 3.8.8 ('base')",
   "language": "python",
   "name": "python3"
  },
  "language_info": {
   "codemirror_mode": {
    "name": "ipython",
    "version": 3
   },
   "file_extension": ".py",
   "mimetype": "text/x-python",
   "name": "python",
   "nbconvert_exporter": "python",
   "pygments_lexer": "ipython3",
   "version": "3.8.10"
  },
  "orig_nbformat": 4
 },
 "nbformat": 4,
 "nbformat_minor": 2
}
