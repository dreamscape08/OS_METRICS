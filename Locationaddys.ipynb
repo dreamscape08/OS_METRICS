{
 "cells": [
  {
   "cell_type": "code",
   "execution_count": null,
   "metadata": {},
   "outputs": [],
   "source": [
    "from bs4 import BeautifulSoup\n",
    "import pandas as pd\n",
    "import numpy as np\n",
    "import requests\n",
    "import json\n",
    "from decouple import config\n",
    "from urllib import request\n",
    "import csv \n",
    "import datetime\n",
    "import smtplib\n",
    "from pandas import json_normalize\n",
    "from sqlalchemy import create_engine\n",
    "import psycopg2\n",
    "from email.message import EmailMessage\n",
    "from datetime import datetime, timedelta\n",
    "import json \n",
    "import pandas as pd\n"
   ]
  },
  {
   "cell_type": "markdown",
   "metadata": {},
   "source": [
    "Try:\n",
    "#Whatever you wish to execute\n",
    "Except:\n",
    "#If this throws an error, do the following. Usually the user implements either one of these three steps: \n",
    "(a) throw an exception (which breaks the code) or \n",
    "(b) perform an alternative action (e.g. record that the try-statement produced an error, but continue with the code anyway)\n",
    "(c) pass (simply execute the rest of the script)\n",
    "Else:\n",
    "#If this doesn't throw an error, do the following\n",
    "Finally:\n",
    "#The finally-statement is optional. Whether the try-statement produced an error or not, do the following."
   ]
  },
  {
   "cell_type": "code",
   "execution_count": 116,
   "metadata": {},
   "outputs": [
    {
     "name": "stdout",
     "output_type": "stream",
     "text": [
      "<!DOCTYPE html><html><head><meta name=\"robots\" content=\"noindex\">\n",
      "<meta http-equiv=\"content-type\" content=\"text/html; charset=UTF-8\">\n",
      "<link rel=\"shortcut icon\" href=\"/public/img/favicon-16x16.png\">\n",
      "<link rel=\"apple-touch-icon\" sizes=\"180x180\" href=\"/public/img/apple-touch-icon.png\">\n",
      "<link rel=\"icon\" type=\"image/png\" sizes=\"32x32\" href=\"/public/img/favicon-32x32.png\">\n",
      "<link rel=\"icon\" type=\"image/png\" sizes=\"16x16\" href=\"/public/img/favicon-16x16.png\">\n",
      "<!-- <link rel=\"manifest\" href=\"/asset/site.webmanifest\"> -->\n",
      "<link rel=\"mask-icon\" href=\"/public/img/safari-pinned-tab.svg\" color=\"#5bbad5\">\n",
      "<meta name=\"msapplication-TileColor\" content=\"#da532c\">\n",
      "<meta name=\"theme-color\" content=\"#333333\"><title>Osteostrong</title><link rel=\"stylesheet\" href=\"/public/bootstrap/css/bootstrap.min.css\"><link rel=\"stylesheet\" href=\"/public/style/styles.css\"><link rel=\"stylesheet\" href=\"/public/style/notification.css\"></head><body><nav class=\"donotprint\" aria-label=\"breadcrumb\"><ol class=\"breadcrumb\"><li class=\"breadcrumb-item\"><a href=\"/\">Logout</a></li><li class=\"breadcrumb-item\"><a href=\"/downloads\">Support</a></li><li class=\"breadcrumb-item\"><a href=\"/locations\">Locations</a></li></ol></nav><h1>Locations</h1><hr><form onsubmit=\"return false\"><label class=\"col-form-label-lg\">Filter</label><input id=\"location_filter\"></form><div id=\"location_list\"><b><em>Loading...</em></b><br><br><br></div><script src=\"/asset/locations.js\"></script><footer class=\"donotprint\"><hr><ul class=\"list-group list-group-horizontal-sm list-group-flush\"><li class=\"list-group-item text-secondary\">denver@osteostrong.me</li><li class=\"list-group-item text-secondary\">owner</li><li class=\"list-group-item\"><a href=\"/logout\">Logout</a></li></ul><script async src=\"https://www.googletagmanager.com/gtag/js?id=G-WT0XP9Q0ZS\"></script><script src=\"/public/script/shape.js\"></script><script src=\"/public/script/node.js\"></script><script src=\"/public/script/i18n.js\"></script><script src=\"/public/script/spectrum_srv.js\"></script></footer></body></html>\n"
     ]
    }
   ],
   "source": [
    "\n",
    "\n",
    "\n",
    "import requests\n",
    "\n",
    "url = \"https://osteostrong.pro/login\"\n",
    "\n",
    "payload=f'password=OSDenver1&ui=yes&username=Denver%40osteostrong.me'\n",
    "headers = {\n",
    "  'Content-Type': 'application/x-www-form-urlencoded',\n",
    "  'Cookie': 'osteo_auth=s%3AGU_lmG03zZ_MSaxrQGF5EyheUMWX_7l3.lQX%2FW1Z5lt%2FyqbkNnlpee0FIohd%2FhpL0DeBPkpsh9V0'\n",
    "}\n",
    "\n",
    "response = requests.request(\"POST\", url, headers=headers, data=payload)\n",
    "\n",
    "print(response.text)\n"
   ]
  },
  {
   "cell_type": "code",
   "execution_count": 2,
   "metadata": {},
   "outputs": [
    {
     "ename": "NameError",
     "evalue": "name 'listofdata' is not defined",
     "output_type": "error",
     "traceback": [
      "\u001b[0;31m---------------------------------------------------------------------------\u001b[0m",
      "\u001b[0;31mNameError\u001b[0m                                 Traceback (most recent call last)",
      "\u001b[0;32m<ipython-input-2-84fd6882dcfb>\u001b[0m in \u001b[0;36m<module>\u001b[0;34m\u001b[0m\n\u001b[1;32m      6\u001b[0m \u001b[0mmetrics\u001b[0m\u001b[0;34m=\u001b[0m\u001b[0;34m[\u001b[0m\u001b[0;34m]\u001b[0m\u001b[0;34m\u001b[0m\u001b[0;34m\u001b[0m\u001b[0m\n\u001b[1;32m      7\u001b[0m \u001b[0mlocation\u001b[0m \u001b[0;34m=\u001b[0m\u001b[0;34m(\u001b[0m\u001b[0mrange\u001b[0m\u001b[0;34m(\u001b[0m\u001b[0;36m0\u001b[0m\u001b[0;34m,\u001b[0m\u001b[0;36m1000\u001b[0m\u001b[0;34m)\u001b[0m\u001b[0;34m)\u001b[0m\u001b[0;34m\u001b[0m\u001b[0;34m\u001b[0m\u001b[0m\n\u001b[0;32m----> 8\u001b[0;31m \u001b[0;32mfor\u001b[0m \u001b[0mx\u001b[0m \u001b[0;32min\u001b[0m \u001b[0mlistofdata\u001b[0m\u001b[0;34m:\u001b[0m\u001b[0;34m\u001b[0m\u001b[0;34m\u001b[0m\u001b[0m\n\u001b[0m\u001b[1;32m      9\u001b[0m   \u001b[0murl\u001b[0m \u001b[0;34m=\u001b[0m \u001b[0;34mf\"https://osteostrong.pro/member/list?location_id={x}&location_name=&snippit=\"\u001b[0m\u001b[0;34m\u001b[0m\u001b[0;34m\u001b[0m\u001b[0m\n\u001b[1;32m     10\u001b[0m \u001b[0;34m\u001b[0m\u001b[0m\n",
      "\u001b[0;31mNameError\u001b[0m: name 'listofdata' is not defined"
     ]
    }
   ],
   "source": [
    "import requests\n",
    "from bs4 import BeautifulSoup\n",
    "import re\n",
    "import json\n",
    "import pandas as pd\n",
    "metrics=[]\n",
    "location =(range(0,1000))\n",
    "for x in listofdata:\n",
    "  url = f\"https://osteostrong.pro/member/list?location_id={x}&location_name=&snippit=\"\n",
    "\n",
    "  payload={}\n",
    "  headers = {\n",
    "    'Cookie': 'osteo_auth=s%3AGU_lmG03zZ_MSaxrQGF5EyheUMWX_7l3.lQX%2FW1Z5lt%2FyqbkNnlpee0FIohd%2FhpL0DeBPkpsh9V0'\n",
    "  }\n",
    "\n",
    "  response = requests.get(url, headers=headers, data=payload)\n",
    "  soup=BeautifulSoup(response.content, 'html.parser')\n",
    "  data=soup.find_all('li')\n",
    "  \n",
    "  if len(data)>0:\n",
    "    print(f'{len(data)} members found in {x}')\n",
    "    \n",
    "    for i in soup.find_all('a'):\n",
    "      try:\n",
    "        link=(i.get('href'))\n",
    "        name=(i.text)\n",
    "        \n",
    "        metrics.append([name,link,x])\n",
    "      except:\n",
    "        print(f'bad data from : {x}')\n",
    "  \n",
    "    \n",
    "\n"
   ]
  },
  {
   "cell_type": "code",
   "execution_count": 1,
   "metadata": {},
   "outputs": [
    {
     "ename": "NameError",
     "evalue": "name 'metrics' is not defined",
     "output_type": "error",
     "traceback": [
      "\u001b[0;31m---------------------------------------------------------------------------\u001b[0m",
      "\u001b[0;31mNameError\u001b[0m                                 Traceback (most recent call last)",
      "\u001b[0;32m<ipython-input-1-47f61c4a869a>\u001b[0m in \u001b[0;36m<module>\u001b[0;34m\u001b[0m\n\u001b[0;32m----> 1\u001b[0;31m \u001b[0;32mfor\u001b[0m \u001b[0mx\u001b[0m \u001b[0;32min\u001b[0m \u001b[0mmetrics\u001b[0m\u001b[0;34m:\u001b[0m\u001b[0;34m\u001b[0m\u001b[0;34m\u001b[0m\u001b[0m\n\u001b[0m\u001b[1;32m      2\u001b[0m     \u001b[0mprint\u001b[0m\u001b[0;34m(\u001b[0m\u001b[0mx\u001b[0m\u001b[0;34m[\u001b[0m\u001b[0;36m1\u001b[0m\u001b[0;34m]\u001b[0m\u001b[0;34m)\u001b[0m\u001b[0;34m\u001b[0m\u001b[0;34m\u001b[0m\u001b[0m\n",
      "\u001b[0;31mNameError\u001b[0m: name 'metrics' is not defined"
     ]
    }
   ],
   "source": [
    "for x in metrics:\n",
    "    print(x[1])"
   ]
  },
  {
   "cell_type": "code",
   "execution_count": null,
   "metadata": {},
   "outputs": [],
   "source": [
    "newmetrics['location']=newmetrics['location'].astype(str)\n"
   ]
  },
  {
   "cell_type": "code",
   "execution_count": null,
   "metadata": {},
   "outputs": [],
   "source": [
    "listofdata=(newmetrics[2].unique())\n",
    "for x in listofdata:\n",
    "    print(x)"
   ]
  },
  {
   "cell_type": "code",
   "execution_count": 115,
   "metadata": {},
   "outputs": [
    {
     "name": "stdout",
     "output_type": "stream",
     "text": [
      "8 members found in 850\n"
     ]
    }
   ],
   "source": [
    "import requests\n",
    "from bs4 import BeautifulSoup\n",
    "import re\n",
    "import json\n",
    "import pandas as pd\n",
    "metrics=[]\n",
    "\n",
    "url = f\"https://osteostrong.pro/member/metrics?ui=yes&amp;member_id=81727&amp;location_id=709&amp;name=Ai Ling Tan\"\n",
    "\n",
    "payload = {}\n",
    "headers = {\n",
    "    'Cookie': 'osteo_auth=s%3AGU_lmG03zZ_MSaxrQGF5EyheUMWX_7l3.lQX%2FW1Z5lt%2FyqbkNnlpee0FIohd%2FhpL0DeBPkpsh9V0'\n",
    "}\n",
    "\n",
    "response = requests.get(url, headers=headers, data=payload)\n",
    "soup = BeautifulSoup(response.content, 'html.parser')\n",
    "data = soup.find_all('li')\n",
    "\n",
    "if len(data) > 0:\n",
    "    print(f'{len(data)} members found in {x}')\n",
    "\n",
    "    for i in soup.find_all('a'):\n",
    "      try:\n",
    "        link = (i.get('href'))\n",
    "        name = (i.text)\n",
    "\n",
    "        metrics.append([name, link, x])\n",
    "      except:\n",
    "        print(f'bad data from : {x}')\n"
   ]
  },
  {
   "cell_type": "code",
   "execution_count": 114,
   "metadata": {},
   "outputs": [
    {
     "data": {
      "text/plain": [
       "<!DOCTYPE html>\n",
       "<html><head><meta content=\"noindex\" name=\"robots\"/>\n",
       "<meta content=\"text/html; charset=utf-8\" http-equiv=\"content-type\"/>\n",
       "<link href=\"/public/img/favicon-16x16.png\" rel=\"shortcut icon\"/>\n",
       "<link href=\"/public/img/apple-touch-icon.png\" rel=\"apple-touch-icon\" sizes=\"180x180\"/>\n",
       "<link href=\"/public/img/favicon-32x32.png\" rel=\"icon\" sizes=\"32x32\" type=\"image/png\"/>\n",
       "<link href=\"/public/img/favicon-16x16.png\" rel=\"icon\" sizes=\"16x16\" type=\"image/png\"/>\n",
       "<!-- <link rel=\"manifest\" href=\"/asset/site.webmanifest\"> -->\n",
       "<link color=\"#5bbad5\" href=\"/public/img/safari-pinned-tab.svg\" rel=\"mask-icon\"/>\n",
       "<meta content=\"#da532c\" name=\"msapplication-TileColor\"/>\n",
       "<meta content=\"#333333\" name=\"theme-color\"/><title>Osteostrong</title><link href=\"/public/bootstrap/css/bootstrap.min.css\" rel=\"stylesheet\"/><link href=\"/public/style/styles.css\" rel=\"stylesheet\"/><link href=\"/public/style/notification.css\" rel=\"stylesheet\"/></head><body><nav aria-label=\"breadcrumb\" class=\"donotprint\"><ol class=\"breadcrumb\"><li class=\"breadcrumb-item\"><a href=\"/\">Logout</a></li><li class=\"breadcrumb-item\"><a href=\"/downloads\">Support</a></li><li class=\"breadcrumb-item\"><a href=\"/locations\">Locations</a></li><li class=\"breadcrumb-item\"><a href=\"/members?location_id=undefined\">Members</a></li><li class=\"breadcrumb-item\"><a href=\"/member?member_id=undefined&amp;location_id=undefined\"></a></li></ol></nav><h1>undefined Metrics</h1><p><h3>Functional Bone Increase NaN%</h3><h3>Total Sessions 0</h3></p><hr/><link href=\"/public/style/report.css\" rel=\"stylesheet\"/><div class=\"spectrumReport\"><h3>Core GT</h3><table class=\"table spectrumMeta\"><tr><td class=\"label\">Total Sessions</td><td>0</td><td class=\"label\">Total Sessions in Last Year:</td><td>0</td><td class=\"label\">Functional Bone Performance:</td><td>NaN%</td></tr><tr><td class=\"label\">Total GT Sessions:</td><td>0</td><td class=\"label\">Total GT Sessions in Last Year:</td><td>0</td><td class=\"label\">Sessions in a Row @ GT:</td><td>0</td></tr><tr><td class=\"label\">Total RGT Sessions:</td><td>0</td><td class=\"label\">Total RGT Sessions in Last Year:</td><td>0</td><td class=\"label\">Sessions in a Row @ RGT:</td><td>0</td></tr><tr><td class=\"label\">Total Peak Performances:</td><td>0</td><td class=\"label\">Total Peak Performances in Last Year:</td><td>0</td><td class=\"label\">Sessions in a Row @ Peak Performance:</td><td>0</td></tr><tr><td class=\"label\">Total Improvement:</td><td>NaN %</td><td class=\"label\">Machine Tonnage:</td><td>0</td><td class=\"label\">Total Tonnage:</td><td>0</td></tr></table><div class=\"spectrumChart\" id=\"spectrumChart_Core\"></div><img alt=\"session legend\" src=\"/public/img/session_legend.png\"/><input id=\"spectrumData_Core\" type=\"hidden\" value='{\"sessions\":{\"0\":0,\"undefined\":0},\"machine\":{\"name\":\"core\",\"gt_level\":1,\"rgt_level\":1.5,\"scalar\":1,\"compression_active\":false,\"maximum_position\":75,\"minimum_position\":0},\"metrics\":{\"best\":0,\"first\":0,\"last\":0,\"total_sessions\":0,\"annualTotal\":0,\"annualGT\":0,\"annualPP\":0,\"annualRGT\":0,\"peak_performance\":0,\"recentGT\":0,\"recentPP\":0,\"recentRGT\":0,\"machine_tonnage\":0,\"total_tonnage\":0,\"totalGT\":0,\"totalPP\":0,\"totalRGT\":0,\"total_improvement\":null}}'/><br/><br/><br/></div><hr/><link href=\"/public/style/report.css\" rel=\"stylesheet\"/><div class=\"spectrumReport\"><h3>Lower GT</h3><table class=\"table spectrumMeta\"><tr><td class=\"label\">Total Sessions</td><td>0</td><td class=\"label\">Total Sessions in Last Year:</td><td>0</td><td class=\"label\">Functional Bone Performance:</td><td>NaN%</td></tr><tr><td class=\"label\">Total GT Sessions:</td><td>0</td><td class=\"label\">Total GT Sessions in Last Year:</td><td>0</td><td class=\"label\">Sessions in a Row @ GT:</td><td>0</td></tr><tr><td class=\"label\">Total RGT Sessions:</td><td>0</td><td class=\"label\">Total RGT Sessions in Last Year:</td><td>0</td><td class=\"label\">Sessions in a Row @ RGT:</td><td>0</td></tr><tr><td class=\"label\">Total Peak Performances:</td><td>0</td><td class=\"label\">Total Peak Performances in Last Year:</td><td>0</td><td class=\"label\">Sessions in a Row @ Peak Performance:</td><td>0</td></tr><tr><td class=\"label\">Total Improvement:</td><td>NaN %</td><td class=\"label\">Machine Tonnage:</td><td>0</td><td class=\"label\">Total Tonnage:</td><td>0</td></tr></table><div class=\"spectrumChart\" id=\"spectrumChart_Lower\"></div><img alt=\"session legend\" src=\"/public/img/session_legend.png\"/><input id=\"spectrumData_Lower\" type=\"hidden\" value='{\"sessions\":{\"0\":0,\"undefined\":0},\"machine\":{\"name\":\"lower\",\"gt_level\":4.2,\"rgt_level\":7.2,\"scalar\":1.75,\"compression_active\":false,\"maximum_position\":90,\"minimum_position\":0},\"metrics\":{\"best\":0,\"first\":0,\"last\":0,\"total_sessions\":0,\"annualTotal\":0,\"annualGT\":0,\"annualPP\":0,\"annualRGT\":0,\"peak_performance\":0,\"recentGT\":0,\"recentPP\":0,\"recentRGT\":0,\"machine_tonnage\":0,\"total_tonnage\":0,\"totalGT\":0,\"totalPP\":0,\"totalRGT\":0,\"total_improvement\":null}}'/><br/><br/><br/></div><hr/><link href=\"/public/style/report.css\" rel=\"stylesheet\"/><div class=\"spectrumReport\"><h3>Postural GT</h3><table class=\"table spectrumMeta\"><tr><td class=\"label\">Total Sessions</td><td>0</td><td class=\"label\">Total Sessions in Last Year:</td><td>0</td><td class=\"label\">Functional Bone Performance:</td><td>NaN%</td></tr><tr><td class=\"label\">Total GT Sessions:</td><td>0</td><td class=\"label\">Total GT Sessions in Last Year:</td><td>0</td><td class=\"label\">Sessions in a Row @ GT:</td><td>0</td></tr><tr><td class=\"label\">Total RGT Sessions:</td><td>0</td><td class=\"label\">Total RGT Sessions in Last Year:</td><td>0</td><td class=\"label\">Sessions in a Row @ RGT:</td><td>0</td></tr><tr><td class=\"label\">Total Peak Performances:</td><td>0</td><td class=\"label\">Total Peak Performances in Last Year:</td><td>0</td><td class=\"label\">Sessions in a Row @ Peak Performance:</td><td>0</td></tr><tr><td class=\"label\">Total Improvement:</td><td>NaN %</td><td class=\"label\">Machine Tonnage:</td><td>0</td><td class=\"label\">Total Tonnage:</td><td>0</td></tr></table><div class=\"spectrumChart\" id=\"spectrumChart_Postural\"></div><img alt=\"session legend\" src=\"/public/img/session_legend.png\"/><input id=\"spectrumData_Postural\" type=\"hidden\" value='{\"sessions\":{\"0\":0,\"undefined\":0},\"machine\":{\"name\":\"postural\",\"gt_level\":2,\"rgt_level\":2.5,\"scalar\":1,\"compression_active\":true,\"maximum_position\":90,\"minimum_position\":0},\"metrics\":{\"best\":0,\"first\":0,\"last\":0,\"total_sessions\":0,\"annualTotal\":0,\"annualGT\":0,\"annualPP\":0,\"annualRGT\":0,\"peak_performance\":0,\"recentGT\":0,\"recentPP\":0,\"recentRGT\":0,\"machine_tonnage\":0,\"total_tonnage\":0,\"totalGT\":0,\"totalPP\":0,\"totalRGT\":0,\"total_improvement\":null}}'/><br/><br/><br/></div><hr/><link href=\"/public/style/report.css\" rel=\"stylesheet\"/><div class=\"spectrumReport\"><h3>Upper GT</h3><table class=\"table spectrumMeta\"><tr><td class=\"label\">Total Sessions</td><td>0</td><td class=\"label\">Total Sessions in Last Year:</td><td>0</td><td class=\"label\">Functional Bone Performance:</td><td>NaN%</td></tr><tr><td class=\"label\">Total GT Sessions:</td><td>0</td><td class=\"label\">Total GT Sessions in Last Year:</td><td>0</td><td class=\"label\">Sessions in a Row @ GT:</td><td>0</td></tr><tr><td class=\"label\">Total RGT Sessions:</td><td>0</td><td class=\"label\">Total RGT Sessions in Last Year:</td><td>0</td><td class=\"label\">Sessions in a Row @ RGT:</td><td>0</td></tr><tr><td class=\"label\">Total Peak Performances:</td><td>0</td><td class=\"label\">Total Peak Performances in Last Year:</td><td>0</td><td class=\"label\">Sessions in a Row @ Peak Performance:</td><td>0</td></tr><tr><td class=\"label\">Total Improvement:</td><td>NaN %</td><td class=\"label\">Machine Tonnage:</td><td>0</td><td class=\"label\">Total Tonnage:</td><td>0</td></tr></table><div class=\"spectrumChart\" id=\"spectrumChart_Upper\"></div><img alt=\"session legend\" src=\"/public/img/session_legend.png\"/><input id=\"spectrumData_Upper\" type=\"hidden\" value='{\"sessions\":{\"0\":0,\"undefined\":0},\"machine\":{\"name\":\"upper\",\"gt_level\":2,\"rgt_level\":2.5,\"scalar\":1.64,\"compression_active\":false,\"maximum_position\":90,\"minimum_position\":0},\"metrics\":{\"best\":0,\"first\":0,\"last\":0,\"total_sessions\":0,\"annualTotal\":0,\"annualGT\":0,\"annualPP\":0,\"annualRGT\":0,\"peak_performance\":0,\"recentGT\":0,\"recentPP\":0,\"recentRGT\":0,\"machine_tonnage\":0,\"total_tonnage\":0,\"totalGT\":0,\"totalPP\":0,\"totalRGT\":0,\"total_improvement\":null}}'/><br/><br/><br/></div><hr/><footer class=\"donotprint\"><hr/><ul class=\"list-group list-group-horizontal-sm list-group-flush\"><li class=\"list-group-item text-secondary\">denver@osteostrong.me</li><li class=\"list-group-item text-secondary\">owner</li><li class=\"list-group-item\"><a href=\"/logout\">Logout</a></li></ul><script async=\"\" src=\"https://www.googletagmanager.com/gtag/js?id=G-WT0XP9Q0ZS\"></script><script src=\"/public/script/shape.js\"></script><script src=\"/public/script/node.js\"></script><script src=\"/public/script/i18n.js\"></script><script src=\"/public/script/spectrum_srv.js\"></script></footer><script src=\"/asset/canvasjs.min.js\"></script><script src=\"/asset/report_class.js\"></script><script src=\"/asset/metrics.js\"></script></body></html>"
      ]
     },
     "execution_count": 114,
     "metadata": {},
     "output_type": "execute_result"
    }
   ],
   "source": [
    "soup"
   ]
  },
  {
   "cell_type": "code",
   "execution_count": null,
   "metadata": {},
   "outputs": [],
   "source": [
    "LW_username = config('lw_username')\n",
    "LW_password = config('lw_password')\n",
    "\n",
    "LW_payload = {'username': LW_username, 'password': LW_password}\n",
    "loginurl = ('https://osteostrong.org/auth')\n",
    "LW_totals = []\n",
    "\n",
    "with requests.session() as s:\n",
    "    s.post(loginurl, data=LW_payload)\n",
    "    for lid in tens:\n",
    "    url=f'https://osteostrong.org/location/get?lid={lid}'\n",
    "    LW_r = s.get(LW_url).text\n",
    "    jsondata=json.loads(LW_r)    \n",
    "s.close()\n",
    "metrics=[]\n",
    "# x=int(input())\n",
    "current_date = datetime.now()\n",
    "cd=current_date.strftime(\"%m-%d-%Y\") \n",
    "activelimit=(current_date - timedelta(days=35)).strftime(\"%m-%d-%Y\")\n",
    "al=datetime.strptime(activelimit, \"%m-%d-%Y\")\n",
    "for i in range(len(jsondata)):    \n",
    "    userid=jsondata[i]['UserId']['S']\n",
    "    firstname=jsondata[i]['FirstName']['S']\n",
    "    lastname=jsondata[i]['LastName']['S']\n",
    "    email=jsondata[i]['Email']['S']\n",
    "    active=None\n",
    "    try:\n",
    "       last_sesh=jsondata[i]['Sessions']['M']['Core']['L'][-1]['M']['Date']['S']       \n",
    "       last_sesh=pd.to_datetime(last_sesh)\n",
    "       sesh_count=len(jsondata[i]['Sessions']['M']['Core']['L'])\n",
    "       if last_sesh > al:\n",
    "           active=True        \n",
    "    except:\n",
    "        last_sesh=None        \n",
    "        sesh_count=0\n",
    "    finally:\n",
    "        metrics.append([userid,firstname,lastname,email,last_sesh,sesh_count,active])\n",
    "columns=['UserId','FirstName','LastName','Email','LastSession','SessionCount','Active']\n",
    "metrics_df=pd.DataFrame(metrics,columns=columns)\n",
    "metrics_df=metrics_df.dropna().reset_index(drop=True)"
   ]
  },
  {
   "cell_type": "code",
   "execution_count": null,
   "metadata": {},
   "outputs": [],
   "source": [
    "locations=[]\n",
    "bad=[]"
   ]
  },
  {
   "cell_type": "code",
   "execution_count": null,
   "metadata": {},
   "outputs": [],
   "source": [
    "\n",
    "# LW_username = config('lw_username')\n",
    "# LW_password = config('lw_password')\n",
    "\n",
    "# LW_payload = {'username': LW_username, 'password': LW_password}\n",
    "# loginurl = ('https://osteostrong.org/auth')\n",
    "# with requests.session() as s:\n",
    "#     s.post(loginurl, data=LW_payload)\n",
    "#     for x in range(10,13,1):\n",
    "#         url = f'https://osteostrong.org/location/get?lid=000{x}'\n",
    "#         LW_r = s.get(url).text\n",
    "#         try:\n",
    "#             jsondata = json.loads(LW_r)\n",
    "#             locations.append(jsondata)\n",
    "#         except:\n",
    "#             bad.append(x)\n",
    "#         finally:\n",
    "#             try:\n",
    "#                 print(jsondata)\n",
    "#             except:\n",
    "#                 print(x)\n",
    "#                 print('bad')\n",
    "#                 pass\n",
    "\n",
    "            \n",
    "# locations\n",
    "\n",
    "\n",
    "for x in range(10,13,1):\n",
    "    url = f'https://osteostrong.org/location/get?lid=000{x}'\n",
    "    locations.append(url)"
   ]
  },
  {
   "cell_type": "code",
   "execution_count": null,
   "metadata": {},
   "outputs": [],
   "source": [
    "locations"
   ]
  },
  {
   "cell_type": "code",
   "execution_count": null,
   "metadata": {},
   "outputs": [],
   "source": [
    "import time"
   ]
  },
  {
   "cell_type": "code",
   "execution_count": null,
   "metadata": {},
   "outputs": [],
   "source": [
    "locations=[]\n",
    "bad=[]\n",
    "LW_username = config('lw_username')\n",
    "LW_password = config('lw_password')\n",
    "\n",
    "LW_payload = {'username': LW_username, 'password': LW_password}\n",
    "loginurl = ('https://osteostrong.org/auth')\n",
    "with requests.session() as s:\n",
    "    s.post(loginurl, data=LW_payload)\n",
    "    for x in range(10,54,1):\n",
    "        url = f'https://osteostrong.org/location/get?lid=000{x}'\n",
    "        locations.append(url)\n",
    "        \n",
    "        # try:\n",
    "            LW_r = s.get(url).text\n",
    "            jsondata = json.loads(LW_r)\n",
    "            locations.append(x)\n",
    "        # except:\n",
    "        #     bad.append(x)\n",
    "        # finally:\n",
    "        #     time.sleep(0.5)\n"
   ]
  },
  {
   "cell_type": "code",
   "execution_count": null,
   "metadata": {},
   "outputs": [],
   "source": [
    "good=[]"
   ]
  },
  {
   "cell_type": "code",
   "execution_count": null,
   "metadata": {},
   "outputs": [],
   "source": [
    "\n",
    "\n",
    "\n",
    "LW_username = config('lw_username')\n",
    "LW_password = config('lw_password')\n",
    "\n",
    "LW_payload = {'username': LW_username, 'password': LW_password}\n",
    "loginurl = ('https://osteostrong.org/auth')\n",
    "with requests.session() as s:\n",
    "    s.post(loginurl, data=LW_payload)\n",
    "    for x in locations:\n",
    "        try:\n",
    "            data = s.get(x).text\n",
    "            jsondata = json.loads(data)\n",
    "            good.append(x)\n",
    "        except:\n",
    "            print('bad')\n",
    "        finally:\n",
    "            print(x)\n",
    "\n"
   ]
  },
  {
   "cell_type": "code",
   "execution_count": null,
   "metadata": {},
   "outputs": [],
   "source": [
    "url=https://osteostrong.org/location/get?lid=00012"
   ]
  },
  {
   "cell_type": "code",
   "execution_count": null,
   "metadata": {},
   "outputs": [],
   "source": [
    "LW_username = config('lw_username')\n",
    "LW_password = config('lw_password')\n",
    "\n",
    "LW_payload = {'username': LW_username, 'password': LW_password}\n",
    "loginurl = ('https://osteostrong.org/auth')\n",
    "with requests.session() as s:\n",
    "    s.post(loginurl, data=LW_payload)\n",
    "    for url in locations:\n",
    "        data = s.get(url).text\n",
    "        try:\n",
    "            jsondata = json.loads(data)\n",
    "            good.append(url)\n",
    "\n",
    "        except:\n",
    "            print(url)\n",
    "        \n",
    "        \n",
    "\n"
   ]
  },
  {
   "cell_type": "code",
   "execution_count": null,
   "metadata": {},
   "outputs": [],
   "source": [
    "url\n",
    "data = requests.get(url)\n",
    "\n",
    "# jsondata = json.loads(data.text)\n",
    "# good.append(url)"
   ]
  },
  {
   "cell_type": "code",
   "execution_count": null,
   "metadata": {},
   "outputs": [],
   "source": [
    "s.close()"
   ]
  },
  {
   "cell_type": "code",
   "execution_count": null,
   "metadata": {},
   "outputs": [],
   "source": []
  }
 ],
 "metadata": {
  "interpreter": {
   "hash": "3067ead486e059ec00ffe7555bdb889e6e264a24dc711bf108106cc7baee8d5d"
  },
  "kernelspec": {
   "display_name": "Python 3.8.8 ('base')",
   "language": "python",
   "name": "python3"
  },
  "language_info": {
   "codemirror_mode": {
    "name": "ipython",
    "version": 3
   },
   "file_extension": ".py",
   "mimetype": "text/x-python",
   "name": "python",
   "nbconvert_exporter": "python",
   "pygments_lexer": "ipython3",
   "version": "3.8.8"
  },
  "orig_nbformat": 4
 },
 "nbformat": 4,
 "nbformat_minor": 2
}
